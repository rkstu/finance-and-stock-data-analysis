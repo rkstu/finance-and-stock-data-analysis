{
 "cells": [
  {
   "cell_type": "markdown",
   "id": "a1ab01b6",
   "metadata": {},
   "source": [
    "## Markowitz Portolio Optimization\n",
    "- Returns of a portfolio can be increased without increasing risk of the portfolio by making a portfolio of relatively unrelated(low correlation) stocks\n",
    "- Expected returns of a portfolio = sum of (weight of the stock X(say) * returns of the stock X)\n",
    "- Expected std of a portfolio of two stocks = (weight1 * std1 + weight * std2) ^ 2"
   ]
  },
  {
   "cell_type": "code",
   "execution_count": 2,
   "id": "952d8c25",
   "metadata": {},
   "outputs": [],
   "source": [
    "import pandas as pd\n",
    "import numpy as np\n",
    "from pandas_datareader import data as wb\n",
    "import yfinance as yfin\n",
    "import matplotlib.pyplot as plt\n",
    "%matplotlib inline"
   ]
  },
  {
   "cell_type": "code",
   "execution_count": 3,
   "id": "fa4a4f10",
   "metadata": {},
   "outputs": [],
   "source": [
    "assets = ['PG', '^GSPC']\n",
    "pf_data = pd.DataFrame()\n",
    "\n",
    "for ticker in assets:\n",
    "    data = yfin.Ticker(ticker)\n",
    "    df = data.history(start='2010-1-1')\n",
    "    df[\"Date\"] = df.index.date\n",
    "    df.set_index([\"Date\"], inplace=True)\n",
    "    pf_data[ticker] = df[\"Close\"]"
   ]
  },
  {
   "cell_type": "code",
   "execution_count": 4,
   "id": "98e1a790",
   "metadata": {},
   "outputs": [
    {
     "data": {
      "text/html": [
       "<div>\n",
       "<style scoped>\n",
       "    .dataframe tbody tr th:only-of-type {\n",
       "        vertical-align: middle;\n",
       "    }\n",
       "\n",
       "    .dataframe tbody tr th {\n",
       "        vertical-align: top;\n",
       "    }\n",
       "\n",
       "    .dataframe thead th {\n",
       "        text-align: right;\n",
       "    }\n",
       "</style>\n",
       "<table border=\"1\" class=\"dataframe\">\n",
       "  <thead>\n",
       "    <tr style=\"text-align: right;\">\n",
       "      <th></th>\n",
       "      <th>PG</th>\n",
       "      <th>^GSPC</th>\n",
       "    </tr>\n",
       "    <tr>\n",
       "      <th>Date</th>\n",
       "      <th></th>\n",
       "      <th></th>\n",
       "    </tr>\n",
       "  </thead>\n",
       "  <tbody>\n",
       "    <tr>\n",
       "      <th>2010-01-04</th>\n",
       "      <td>40.925011</td>\n",
       "      <td>1132.989990</td>\n",
       "    </tr>\n",
       "    <tr>\n",
       "      <th>2010-01-05</th>\n",
       "      <td>40.938412</td>\n",
       "      <td>1136.520020</td>\n",
       "    </tr>\n",
       "    <tr>\n",
       "      <th>2010-01-06</th>\n",
       "      <td>40.744221</td>\n",
       "      <td>1137.140015</td>\n",
       "    </tr>\n",
       "    <tr>\n",
       "      <th>2010-01-07</th>\n",
       "      <td>40.523258</td>\n",
       "      <td>1141.689941</td>\n",
       "    </tr>\n",
       "    <tr>\n",
       "      <th>2010-01-08</th>\n",
       "      <td>40.469685</td>\n",
       "      <td>1144.979980</td>\n",
       "    </tr>\n",
       "  </tbody>\n",
       "</table>\n",
       "</div>"
      ],
      "text/plain": [
       "                   PG        ^GSPC\n",
       "Date                              \n",
       "2010-01-04  40.925011  1132.989990\n",
       "2010-01-05  40.938412  1136.520020\n",
       "2010-01-06  40.744221  1137.140015\n",
       "2010-01-07  40.523258  1141.689941\n",
       "2010-01-08  40.469685  1144.979980"
      ]
     },
     "execution_count": 4,
     "metadata": {},
     "output_type": "execute_result"
    }
   ],
   "source": [
    "pf_data.head()"
   ]
  },
  {
   "cell_type": "code",
   "execution_count": 5,
   "id": "79d0dc45",
   "metadata": {},
   "outputs": [
    {
     "data": {
      "text/html": [
       "<div>\n",
       "<style scoped>\n",
       "    .dataframe tbody tr th:only-of-type {\n",
       "        vertical-align: middle;\n",
       "    }\n",
       "\n",
       "    .dataframe tbody tr th {\n",
       "        vertical-align: top;\n",
       "    }\n",
       "\n",
       "    .dataframe thead th {\n",
       "        text-align: right;\n",
       "    }\n",
       "</style>\n",
       "<table border=\"1\" class=\"dataframe\">\n",
       "  <thead>\n",
       "    <tr style=\"text-align: right;\">\n",
       "      <th></th>\n",
       "      <th>PG</th>\n",
       "      <th>^GSPC</th>\n",
       "    </tr>\n",
       "    <tr>\n",
       "      <th>Date</th>\n",
       "      <th></th>\n",
       "      <th></th>\n",
       "    </tr>\n",
       "  </thead>\n",
       "  <tbody>\n",
       "    <tr>\n",
       "      <th>2023-05-26</th>\n",
       "      <td>145.399994</td>\n",
       "      <td>4205.450195</td>\n",
       "    </tr>\n",
       "    <tr>\n",
       "      <th>2023-05-30</th>\n",
       "      <td>143.179993</td>\n",
       "      <td>4205.520020</td>\n",
       "    </tr>\n",
       "    <tr>\n",
       "      <th>2023-05-31</th>\n",
       "      <td>142.500000</td>\n",
       "      <td>4179.830078</td>\n",
       "    </tr>\n",
       "    <tr>\n",
       "      <th>2023-06-01</th>\n",
       "      <td>143.960007</td>\n",
       "      <td>4221.020020</td>\n",
       "    </tr>\n",
       "    <tr>\n",
       "      <th>2023-06-02</th>\n",
       "      <td>146.520004</td>\n",
       "      <td>4282.370117</td>\n",
       "    </tr>\n",
       "  </tbody>\n",
       "</table>\n",
       "</div>"
      ],
      "text/plain": [
       "                    PG        ^GSPC\n",
       "Date                               \n",
       "2023-05-26  145.399994  4205.450195\n",
       "2023-05-30  143.179993  4205.520020\n",
       "2023-05-31  142.500000  4179.830078\n",
       "2023-06-01  143.960007  4221.020020\n",
       "2023-06-02  146.520004  4282.370117"
      ]
     },
     "execution_count": 5,
     "metadata": {},
     "output_type": "execute_result"
    }
   ],
   "source": [
    "# pf_data.loc[\"2023-01-06\"]\n",
    "pf_data.tail()"
   ]
  },
  {
   "cell_type": "code",
   "execution_count": 6,
   "id": "3d3e701c",
   "metadata": {},
   "outputs": [
    {
     "data": {
      "text/plain": [
       "((3377, 2), 6754)"
      ]
     },
     "execution_count": 6,
     "metadata": {},
     "output_type": "execute_result"
    }
   ],
   "source": [
    "pf_data.shape, pf_data.size"
   ]
  },
  {
   "cell_type": "markdown",
   "id": "7bc52729",
   "metadata": {},
   "source": [
    "For comparision normalizing to 100"
   ]
  },
  {
   "cell_type": "code",
   "execution_count": 7,
   "id": "2b6a103e",
   "metadata": {},
   "outputs": [
    {
     "data": {
      "text/plain": [
       "<AxesSubplot:xlabel='Date'>"
      ]
     },
     "execution_count": 7,
     "metadata": {},
     "output_type": "execute_result"
    },
    {
     "data": {
      "image/png": "[encoded data removed]",
      "text/plain": [
       "<Figure size 864x576 with 1 Axes>"
      ]
     },
     "metadata": {
      "needs_background": "light"
     },
     "output_type": "display_data"
    }
   ],
   "source": [
    "(pf_data / pf_data.iloc[0] * 100).plot(figsize=(12, 8))"
   ]
  },
  {
   "cell_type": "markdown",
   "id": "6f51666b",
   "metadata": {},
   "source": [
    "obtaining efficient frontier  "
   ]
  },
  {
   "cell_type": "code",
   "execution_count": 8,
   "id": "6dbac3bd",
   "metadata": {},
   "outputs": [],
   "source": [
    "log_returns = np.log(pf_data / pf_data.shift(1))"
   ]
  },
  {
   "cell_type": "code",
   "execution_count": 9,
   "id": "bffe49f4",
   "metadata": {},
   "outputs": [
    {
     "data": {
      "text/plain": [
       "PG       0.094448\n",
       "^GSPC    0.098463\n",
       "dtype: float64"
      ]
     },
     "execution_count": 9,
     "metadata": {},
     "output_type": "execute_result"
    }
   ],
   "source": [
    "log_returns.mean()*250"
   ]
  },
  {
   "cell_type": "code",
   "execution_count": 10,
   "id": "fd67910f",
   "metadata": {},
   "outputs": [
    {
     "data": {
      "text/html": [
       "<div>\n",
       "<style scoped>\n",
       "    .dataframe tbody tr th:only-of-type {\n",
       "        vertical-align: middle;\n",
       "    }\n",
       "\n",
       "    .dataframe tbody tr th {\n",
       "        vertical-align: top;\n",
       "    }\n",
       "\n",
       "    .dataframe thead th {\n",
       "        text-align: right;\n",
       "    }\n",
       "</style>\n",
       "<table border=\"1\" class=\"dataframe\">\n",
       "  <thead>\n",
       "    <tr style=\"text-align: right;\">\n",
       "      <th></th>\n",
       "      <th>PG</th>\n",
       "      <th>^GSPC</th>\n",
       "    </tr>\n",
       "  </thead>\n",
       "  <tbody>\n",
       "    <tr>\n",
       "      <th>PG</th>\n",
       "      <td>0.029812</td>\n",
       "      <td>0.017399</td>\n",
       "    </tr>\n",
       "    <tr>\n",
       "      <th>^GSPC</th>\n",
       "      <td>0.017399</td>\n",
       "      <td>0.031388</td>\n",
       "    </tr>\n",
       "  </tbody>\n",
       "</table>\n",
       "</div>"
      ],
      "text/plain": [
       "             PG     ^GSPC\n",
       "PG     0.029812  0.017399\n",
       "^GSPC  0.017399  0.031388"
      ]
     },
     "execution_count": 10,
     "metadata": {},
     "output_type": "execute_result"
    }
   ],
   "source": [
    "log_returns.cov() * 250"
   ]
  },
  {
   "cell_type": "code",
   "execution_count": 11,
   "id": "a61d8003",
   "metadata": {},
   "outputs": [
    {
     "data": {
      "text/html": [
       "<div>\n",
       "<style scoped>\n",
       "    .dataframe tbody tr th:only-of-type {\n",
       "        vertical-align: middle;\n",
       "    }\n",
       "\n",
       "    .dataframe tbody tr th {\n",
       "        vertical-align: top;\n",
       "    }\n",
       "\n",
       "    .dataframe thead th {\n",
       "        text-align: right;\n",
       "    }\n",
       "</style>\n",
       "<table border=\"1\" class=\"dataframe\">\n",
       "  <thead>\n",
       "    <tr style=\"text-align: right;\">\n",
       "      <th></th>\n",
       "      <th>PG</th>\n",
       "      <th>^GSPC</th>\n",
       "    </tr>\n",
       "  </thead>\n",
       "  <tbody>\n",
       "    <tr>\n",
       "      <th>PG</th>\n",
       "      <td>1.000000</td>\n",
       "      <td>0.568788</td>\n",
       "    </tr>\n",
       "    <tr>\n",
       "      <th>^GSPC</th>\n",
       "      <td>0.568788</td>\n",
       "      <td>1.000000</td>\n",
       "    </tr>\n",
       "  </tbody>\n",
       "</table>\n",
       "</div>"
      ],
      "text/plain": [
       "             PG     ^GSPC\n",
       "PG     1.000000  0.568788\n",
       "^GSPC  0.568788  1.000000"
      ]
     },
     "execution_count": 11,
     "metadata": {},
     "output_type": "execute_result"
    }
   ],
   "source": [
    "log_returns.corr()"
   ]
  },
  {
   "cell_type": "markdown",
   "id": "dbafcae9",
   "metadata": {},
   "source": [
    "Number of stocks in the portfolio"
   ]
  },
  {
   "cell_type": "code",
   "execution_count": 12,
   "id": "81dd7cf9",
   "metadata": {},
   "outputs": [],
   "source": [
    " num_assets = len(assets)"
   ]
  },
  {
   "cell_type": "code",
   "execution_count": 13,
   "id": "8dcdc8e5",
   "metadata": {},
   "outputs": [
    {
     "data": {
      "text/plain": [
       "2"
      ]
     },
     "execution_count": 13,
     "metadata": {},
     "output_type": "execute_result"
    }
   ],
   "source": [
    "num_assets"
   ]
  },
  {
   "cell_type": "markdown",
   "id": "f3cf46c2",
   "metadata": {},
   "source": [
    "Random weights of the assets in the potfolio"
   ]
  },
  {
   "cell_type": "code",
   "execution_count": 14,
   "id": "73c7b6b3",
   "metadata": {},
   "outputs": [
    {
     "data": {
      "text/plain": [
       "array([0.32586496, 0.56683862])"
      ]
     },
     "execution_count": 14,
     "metadata": {},
     "output_type": "execute_result"
    }
   ],
   "source": [
    "arr = np.random.random(num_assets)\n",
    "arr"
   ]
  },
  {
   "cell_type": "code",
   "execution_count": 15,
   "id": "b540fcff",
   "metadata": {},
   "outputs": [
    {
     "data": {
      "text/plain": [
       "array([0.31874704, 0.68125296])"
      ]
     },
     "execution_count": 15,
     "metadata": {},
     "output_type": "execute_result"
    }
   ],
   "source": [
    "weights = np.random.random(num_assets)\n",
    "weights /= np.sum(weights)\n",
    "weights"
   ]
  },
  {
   "cell_type": "code",
   "execution_count": 16,
   "id": "dc951f74",
   "metadata": {},
   "outputs": [
    {
     "data": {
      "text/plain": [
       "1.0"
      ]
     },
     "execution_count": 16,
     "metadata": {},
     "output_type": "execute_result"
    }
   ],
   "source": [
    "weights[0] + weights[1]"
   ]
  },
  {
   "cell_type": "markdown",
   "id": "d0036cb7",
   "metadata": {},
   "source": [
    "Expected Portfolio returns"
   ]
  },
  {
   "cell_type": "code",
   "execution_count": 17,
   "id": "0829f70d",
   "metadata": {},
   "outputs": [
    {
     "data": {
      "text/plain": [
       "0.09718321477963057"
      ]
     },
     "execution_count": 17,
     "metadata": {},
     "output_type": "execute_result"
    }
   ],
   "source": [
    "np.sum(log_returns.mean() * weights) * 250"
   ]
  },
  {
   "cell_type": "markdown",
   "id": "6e812706",
   "metadata": {},
   "source": [
    "Expected portfolio Variance"
   ]
  },
  {
   "cell_type": "code",
   "execution_count": 18,
   "id": "d215d977",
   "metadata": {},
   "outputs": [
    {
     "data": {
      "text/plain": [
       "0.025152665675274233"
      ]
     },
     "execution_count": 18,
     "metadata": {},
     "output_type": "execute_result"
    }
   ],
   "source": [
    "np.dot(weights.T, np.dot(log_returns.cov() * 250, weights))"
   ]
  },
  {
   "cell_type": "markdown",
   "id": "fb505017",
   "metadata": {},
   "source": [
    "Expected portfolio volatility"
   ]
  },
  {
   "cell_type": "code",
   "execution_count": 19,
   "id": "2943da9c",
   "metadata": {},
   "outputs": [
    {
     "data": {
      "text/plain": [
       "0.15859591947863674"
      ]
     },
     "execution_count": 19,
     "metadata": {},
     "output_type": "execute_result"
    }
   ],
   "source": [
    "np.dot(weights.T, np.dot(log_returns.cov() * 250, weights)) ** 0.5"
   ]
  },
  {
   "cell_type": "markdown",
   "id": "e271f7c7",
   "metadata": {},
   "source": [
    "Random weights selection check"
   ]
  },
  {
   "cell_type": "code",
   "execution_count": 20,
   "id": "5728b346",
   "metadata": {},
   "outputs": [
    {
     "data": {
      "text/plain": [
       "(array([0.0962513 , 0.09822412, 0.09604296, 0.09754761, 0.09537037,\n",
       "        0.09647934, 0.09662112, 0.09731493, 0.0970605 , 0.0970029 ,\n",
       "        0.09754943, 0.09595289, 0.09603396, 0.09665836, 0.09572527,\n",
       "        0.09750205, 0.09751887, 0.0970188 , 0.09487041, 0.09750687,\n",
       "        0.09656458, 0.09493531, 0.09764429, 0.0956874 , 0.09613137,\n",
       "        0.09733299, 0.09775066, 0.09519316, 0.09675738, 0.09557786,\n",
       "        0.09561554, 0.09648685, 0.09456382, 0.09730277, 0.09636955,\n",
       "        0.09650744, 0.09574243, 0.0975379 , 0.09583919, 0.09576875,\n",
       "        0.09628455, 0.09640279, 0.09605785, 0.09814874, 0.09652307,\n",
       "        0.09533644, 0.09558144, 0.0967072 , 0.09446842, 0.09594975,\n",
       "        0.09470164, 0.09553035, 0.09799703, 0.09776346, 0.09663096,\n",
       "        0.09833786, 0.09704908, 0.09643371, 0.09664341, 0.09577288,\n",
       "        0.09515532, 0.09595754, 0.09833155, 0.09602107, 0.09452157,\n",
       "        0.09710463, 0.09617742, 0.09812031, 0.09633519, 0.09717123,\n",
       "        0.09525962, 0.0958498 , 0.09627982, 0.09654183, 0.09616207,\n",
       "        0.09790038, 0.09793939, 0.09747567, 0.09533602, 0.09580545,\n",
       "        0.09586492, 0.09618534, 0.09785283, 0.09615105, 0.09749194,\n",
       "        0.09623049, 0.09706795, 0.09695602, 0.09537013, 0.0972353 ,\n",
       "        0.09448615, 0.097415  , 0.09565386, 0.09653444, 0.09618578,\n",
       "        0.09816086, 0.09554503, 0.09574887, 0.0975061 , 0.0960642 ,\n",
       "        0.09808865, 0.0977151 , 0.09688087, 0.095963  , 0.09609634,\n",
       "        0.0950809 , 0.09763192, 0.09675261, 0.0967778 , 0.09658263,\n",
       "        0.09654695, 0.09590539, 0.09478778, 0.0955565 , 0.09617845,\n",
       "        0.0976622 , 0.09704638, 0.09482451, 0.09836131, 0.09448269,\n",
       "        0.09839128, 0.09824453, 0.0953783 , 0.09594389, 0.09483528,\n",
       "        0.09640272, 0.09775093, 0.09814212, 0.0958359 , 0.09814373,\n",
       "        0.09612546, 0.09567585, 0.09644533, 0.09579934, 0.096518  ,\n",
       "        0.09814896, 0.09605182, 0.09734655, 0.09736722, 0.09557408,\n",
       "        0.096514  , 0.09738234, 0.09643249, 0.09767756, 0.09644624,\n",
       "        0.09681666, 0.09741642, 0.09459717, 0.09518262, 0.0976408 ,\n",
       "        0.09695245, 0.09774398, 0.09689583, 0.09471516, 0.09822614,\n",
       "        0.09606044, 0.09648234, 0.09599927, 0.09834511, 0.0978005 ,\n",
       "        0.09487021, 0.09667887, 0.09650244, 0.09581362, 0.09824822,\n",
       "        0.09543623, 0.09628278, 0.09763059, 0.09717727, 0.09661059,\n",
       "        0.09527485, 0.09712221, 0.09668688, 0.0983059 , 0.09452478,\n",
       "        0.09497706, 0.09567321, 0.09610121, 0.09616197, 0.09701901,\n",
       "        0.09760699, 0.09615725, 0.09651264, 0.09629614, 0.0961273 ,\n",
       "        0.09723382, 0.09701043, 0.09840507, 0.0962826 , 0.09627352,\n",
       "        0.09553066, 0.09557831, 0.09551557, 0.09598415, 0.09487072,\n",
       "        0.09507828, 0.09581067, 0.09709771, 0.0964354 , 0.09696296,\n",
       "        0.09719911, 0.09507848, 0.0973401 , 0.09651137, 0.09823897,\n",
       "        0.09482621, 0.09654343, 0.09708083, 0.0960617 , 0.09586402,\n",
       "        0.09589826, 0.09753718, 0.09663573, 0.09542032, 0.09641658,\n",
       "        0.09650202, 0.09510871, 0.09613643, 0.09637614, 0.09618703,\n",
       "        0.09514235, 0.09591813, 0.09796649, 0.09657375, 0.09628215,\n",
       "        0.09583246, 0.09656309, 0.09639727, 0.09684868, 0.09809294,\n",
       "        0.09637758, 0.09504722, 0.09586949, 0.09634229, 0.09529629,\n",
       "        0.09670162, 0.0968868 , 0.09662172, 0.09839569, 0.09634961,\n",
       "        0.09614641, 0.09496501, 0.09772697, 0.09742446, 0.09727894,\n",
       "        0.09514562, 0.09807114, 0.09649252, 0.09755952, 0.09844059,\n",
       "        0.09674463, 0.09610078, 0.09623158, 0.09563739, 0.09626888,\n",
       "        0.09747386, 0.09667444, 0.09649582, 0.09754589, 0.09651516,\n",
       "        0.0968988 , 0.0964977 , 0.09579262, 0.09601145, 0.09678219,\n",
       "        0.09717564, 0.0981496 , 0.09728084, 0.09644217, 0.09552382,\n",
       "        0.09788108, 0.09760668, 0.09645968, 0.09532168, 0.09600457,\n",
       "        0.09535059, 0.09729956, 0.09760723, 0.09539918, 0.09602624,\n",
       "        0.0959905 , 0.09737701, 0.09772398, 0.09639604, 0.0962628 ,\n",
       "        0.09667367, 0.09722358, 0.09571562, 0.09797018, 0.09734512,\n",
       "        0.09575364, 0.09605112, 0.09671036, 0.09690219, 0.09828782,\n",
       "        0.09723727, 0.09538773, 0.09702258, 0.096403  , 0.09489545,\n",
       "        0.09619655, 0.09651525, 0.09823695, 0.09731565, 0.09791291,\n",
       "        0.09657019, 0.09670127, 0.0956478 , 0.09681432, 0.09652846,\n",
       "        0.09715392, 0.09685133, 0.09455858, 0.09515684, 0.09632635,\n",
       "        0.09658708, 0.09684385, 0.09621027, 0.09583929, 0.09457853,\n",
       "        0.09579715, 0.09588579, 0.09648204, 0.09599773, 0.09652613,\n",
       "        0.09660221, 0.09684375, 0.09445488, 0.09763707, 0.09690011,\n",
       "        0.09838798, 0.09690018, 0.0954578 , 0.09565097, 0.09648101,\n",
       "        0.09661908, 0.09783022, 0.09618005, 0.09761256, 0.0963193 ,\n",
       "        0.09785949, 0.0962476 , 0.09758669, 0.09604849, 0.09678692,\n",
       "        0.09726033, 0.09822295, 0.09625828, 0.09532599, 0.09539977,\n",
       "        0.09726204, 0.09654264, 0.09630627, 0.09668009, 0.0978155 ,\n",
       "        0.09596828, 0.09654312, 0.09622481, 0.09723102, 0.09801837,\n",
       "        0.09692513, 0.09585891, 0.09636812, 0.09653041, 0.09476655,\n",
       "        0.09546566, 0.0952209 , 0.09573496, 0.09605712, 0.09570442,\n",
       "        0.09620339, 0.09635101, 0.09633011, 0.09497344, 0.09588361,\n",
       "        0.09603857, 0.09682628, 0.09738888, 0.095507  , 0.09757692,\n",
       "        0.09672335, 0.09771426, 0.09697609, 0.09662598, 0.09714064,\n",
       "        0.09477527, 0.09548548, 0.09460531, 0.09587204, 0.09836646,\n",
       "        0.09722819, 0.09635431, 0.09469812, 0.09753301, 0.09556692,\n",
       "        0.095918  , 0.09822198, 0.09636655, 0.09653492, 0.09624728,\n",
       "        0.09622974, 0.09751363, 0.09707429, 0.09618606, 0.09641851,\n",
       "        0.09555614, 0.09619269, 0.09564377, 0.09701953, 0.09819882,\n",
       "        0.09776553, 0.09735525, 0.09562916, 0.09608859, 0.09657587,\n",
       "        0.09524926, 0.09563644, 0.09811263, 0.09645543, 0.09474324,\n",
       "        0.0958878 , 0.09525558, 0.09706366, 0.09616334, 0.09468744,\n",
       "        0.09674147, 0.0953664 , 0.09568119, 0.09797996, 0.09536219,\n",
       "        0.0963306 , 0.0984032 , 0.09802681, 0.09694343, 0.09628581,\n",
       "        0.09734389, 0.09567472, 0.09585267, 0.09476818, 0.09545804,\n",
       "        0.09701979, 0.09508391, 0.09661056, 0.09666034, 0.09634851,\n",
       "        0.09745799, 0.09670333, 0.09834072, 0.09759577, 0.09758422,\n",
       "        0.09532107, 0.09700053, 0.09670665, 0.09625985, 0.09828777,\n",
       "        0.09650795, 0.09628003, 0.09612013, 0.09705207, 0.09606231,\n",
       "        0.09512735, 0.09832662, 0.09618138, 0.09636478, 0.09638756,\n",
       "        0.09604165, 0.09794993, 0.09557031, 0.09623687, 0.09704797,\n",
       "        0.09682854, 0.09577702, 0.0960289 , 0.09595479, 0.09593004,\n",
       "        0.09652289, 0.09487739, 0.09588084, 0.09672109, 0.09681781,\n",
       "        0.09671375, 0.09546736, 0.09833568, 0.09731698, 0.09839953,\n",
       "        0.09513422, 0.09631603, 0.0964505 , 0.09734644, 0.0952966 ,\n",
       "        0.09635727, 0.09532826, 0.09633109, 0.09544459, 0.09675752,\n",
       "        0.09697511, 0.09456792, 0.09838848, 0.097209  , 0.09775991,\n",
       "        0.09534175, 0.09590366, 0.09574022, 0.09561718, 0.0954396 ,\n",
       "        0.09610693, 0.09616521, 0.09737749, 0.09646372, 0.09729144,\n",
       "        0.09649565, 0.0963238 , 0.09654602, 0.09586246, 0.09696299,\n",
       "        0.09753952, 0.09601257, 0.09520705, 0.0980853 , 0.09619832,\n",
       "        0.09790419, 0.09683747, 0.09547943, 0.09657374, 0.09656792,\n",
       "        0.09546265, 0.0972308 , 0.09687561, 0.09465461, 0.09695549,\n",
       "        0.09666276, 0.09652079, 0.09688298, 0.09691455, 0.09681153,\n",
       "        0.09499689, 0.09753131, 0.09457024, 0.09609127, 0.0965767 ,\n",
       "        0.09796557, 0.09610631, 0.09795471, 0.09615451, 0.09640378,\n",
       "        0.09784895, 0.09701671, 0.09680375, 0.09669858, 0.09665561,\n",
       "        0.09717885, 0.09662325, 0.09716768, 0.09630395, 0.09637308,\n",
       "        0.0975872 , 0.09718492, 0.09696592, 0.09595284, 0.09701231,\n",
       "        0.09595641, 0.095902  , 0.09680821, 0.09751836, 0.09645864,\n",
       "        0.09579123, 0.09502724, 0.09559633, 0.09803579, 0.09635462,\n",
       "        0.09803604, 0.09653702, 0.09535219, 0.09614219, 0.09757184,\n",
       "        0.09646893, 0.09458692, 0.09553354, 0.09447145, 0.09653713,\n",
       "        0.09552018, 0.09645363, 0.0959552 , 0.09728915, 0.09676846,\n",
       "        0.09617003, 0.09740648, 0.09596651, 0.097552  , 0.0957617 ,\n",
       "        0.09631828, 0.09667769, 0.0958731 , 0.09775101, 0.09709219,\n",
       "        0.09662713, 0.09557844, 0.09776887, 0.09606378, 0.09611704,\n",
       "        0.09631421, 0.09583379, 0.09681795, 0.09475114, 0.09531602,\n",
       "        0.09602059, 0.0966022 , 0.09634806, 0.09626283, 0.09625602,\n",
       "        0.09616316, 0.09661474, 0.09768169, 0.09790398, 0.09508987,\n",
       "        0.09632619, 0.09625232, 0.09720189, 0.09593956, 0.09504801,\n",
       "        0.0954296 , 0.09782821, 0.09650404, 0.09459208, 0.0950447 ,\n",
       "        0.09519342, 0.09638   , 0.09682932, 0.09556227, 0.09494188,\n",
       "        0.09579896, 0.09634755, 0.09794701, 0.09505553, 0.09734769,\n",
       "        0.09717468, 0.09684857, 0.095848  , 0.09611745, 0.09779413,\n",
       "        0.09581949, 0.0969112 , 0.09621262, 0.09641368, 0.09705064,\n",
       "        0.09632544, 0.09823192, 0.09635977, 0.09503194, 0.09502745,\n",
       "        0.09654581, 0.09602866, 0.09780701, 0.09795391, 0.09516176,\n",
       "        0.09530522, 0.09507016, 0.09583463, 0.09663915, 0.09502171,\n",
       "        0.09666574, 0.09567763, 0.09736429, 0.09633587, 0.09607047,\n",
       "        0.096724  , 0.09622941, 0.09554386, 0.09599558, 0.09627663,\n",
       "        0.09687547, 0.09755118, 0.09659867, 0.09634456, 0.09505258,\n",
       "        0.09691725, 0.09648454, 0.0964778 , 0.09551698, 0.09674516,\n",
       "        0.09597128, 0.09659226, 0.09797155, 0.09534214, 0.09561817,\n",
       "        0.09816164, 0.09585756, 0.09628098, 0.09729599, 0.09554966,\n",
       "        0.09827483, 0.09625017, 0.09459257, 0.09646889, 0.09521279,\n",
       "        0.09605252, 0.09671798, 0.09611685, 0.0947209 , 0.09551298,\n",
       "        0.09720167, 0.09669274, 0.09515953, 0.0960582 , 0.09474101,\n",
       "        0.09724115, 0.09659181, 0.09599355, 0.09727179, 0.09591502,\n",
       "        0.09795172, 0.09649924, 0.09552011, 0.0961816 , 0.0948965 ,\n",
       "        0.09805022, 0.09605372, 0.09827759, 0.0979657 , 0.09642335,\n",
       "        0.09529406, 0.09696479, 0.09699554, 0.0958909 , 0.09622746,\n",
       "        0.09523623, 0.09691711, 0.0975207 , 0.09750696, 0.09744771,\n",
       "        0.09527462, 0.09642755, 0.09465217, 0.09655392, 0.09614851,\n",
       "        0.09629128, 0.09528226, 0.09581662, 0.09596079, 0.09635086,\n",
       "        0.09455938, 0.09803797, 0.09674513, 0.09500899, 0.09729418,\n",
       "        0.09704993, 0.09799633, 0.09815505, 0.09678882, 0.09657125,\n",
       "        0.0963105 , 0.09714434, 0.09610323, 0.09530908, 0.09734509,\n",
       "        0.0979246 , 0.0959014 , 0.09747311, 0.09658622, 0.09604766,\n",
       "        0.09539954, 0.09449888, 0.09597162, 0.09670672, 0.09593773,\n",
       "        0.09605348, 0.09779661, 0.09655693, 0.09835446, 0.09789445,\n",
       "        0.0973786 , 0.09675276, 0.09565267, 0.09682128, 0.09692153,\n",
       "        0.09509702, 0.09672307, 0.09598967, 0.09604124, 0.09703359,\n",
       "        0.09675837, 0.09772224, 0.09811185, 0.09689285, 0.09581839,\n",
       "        0.09684725, 0.09667448, 0.09599433, 0.09679916, 0.09572607,\n",
       "        0.09631671, 0.09608883, 0.0968605 , 0.09645414, 0.09527653,\n",
       "        0.0959595 , 0.09639442, 0.09647417, 0.09479214, 0.09702223,\n",
       "        0.09669661, 0.09646286, 0.09720923, 0.09647633, 0.09708778,\n",
       "        0.09533965, 0.09667181, 0.09526285, 0.09491125, 0.09666937,\n",
       "        0.09673407, 0.09494984, 0.09714642, 0.09614608, 0.09786178,\n",
       "        0.09833403, 0.0945011 , 0.09645895, 0.09810432, 0.09461498,\n",
       "        0.09596664, 0.09574012, 0.09656624, 0.09604188, 0.09476853,\n",
       "        0.09596777, 0.09540593, 0.09587088, 0.09608155, 0.09658437,\n",
       "        0.09678443, 0.09620664, 0.09631563, 0.09601529, 0.09625906,\n",
       "        0.09704808, 0.09614725, 0.09774036, 0.09827789, 0.09592625,\n",
       "        0.09605978, 0.0980875 , 0.09723476, 0.09740613, 0.09544338,\n",
       "        0.09650007, 0.09538052, 0.09516569, 0.09551405, 0.09606577,\n",
       "        0.09598081, 0.09526228, 0.0967329 , 0.09580928, 0.09638166,\n",
       "        0.09457796, 0.09587824, 0.09486314, 0.09784645, 0.09578896,\n",
       "        0.09781955, 0.09783458, 0.0968652 , 0.09722002, 0.0977747 ,\n",
       "        0.09633792, 0.09542055, 0.0971877 , 0.09541333, 0.09556835,\n",
       "        0.09636576, 0.09673925, 0.09521944, 0.09632399, 0.0971078 ,\n",
       "        0.09825827, 0.0961606 , 0.09797636, 0.09697241, 0.09653772,\n",
       "        0.09823189, 0.09742314, 0.09567374, 0.09652425, 0.09670616,\n",
       "        0.09827703, 0.0974281 , 0.09574973, 0.09749235, 0.09816699,\n",
       "        0.09767258, 0.09558389, 0.0959612 , 0.09595346, 0.09755233,\n",
       "        0.09601204, 0.09746728, 0.094837  , 0.09739368, 0.09544441,\n",
       "        0.09645216, 0.09637415, 0.09497067, 0.0973588 , 0.09749213,\n",
       "        0.09449398, 0.09845355, 0.09807204, 0.09526234, 0.09763023,\n",
       "        0.09730521, 0.09647248, 0.09648081, 0.09820402, 0.09632476,\n",
       "        0.09839399, 0.09553128, 0.09574655, 0.09613298, 0.0978103 ,\n",
       "        0.09713959, 0.09772396, 0.09754329, 0.09696879, 0.09727125,\n",
       "        0.09804064, 0.09682564, 0.09691386, 0.09571915, 0.09590672,\n",
       "        0.09748969, 0.09595702, 0.0961987 , 0.09577423, 0.09520963,\n",
       "        0.09625768, 0.0970599 , 0.09649441, 0.09652379, 0.0956964 ,\n",
       "        0.09468011, 0.09724757, 0.09519105, 0.09639741, 0.09667451,\n",
       "        0.09445969, 0.09701097, 0.09636948, 0.09467675, 0.09834269,\n",
       "        0.09663279, 0.09757118, 0.09637557, 0.09599128, 0.09625637,\n",
       "        0.09794623, 0.09499115, 0.09650356, 0.0978153 , 0.09656182,\n",
       "        0.0964968 , 0.09682032, 0.09596592, 0.09751329, 0.09588048,\n",
       "        0.09505981, 0.09534116, 0.09613129, 0.09822183, 0.09467055,\n",
       "        0.09647793, 0.09541253, 0.09741024, 0.09597671, 0.09610082,\n",
       "        0.0968402 , 0.09570177, 0.0972991 , 0.09763476, 0.09638223,\n",
       "        0.09550004, 0.09840143, 0.09727053, 0.09551813, 0.09580188,\n",
       "        0.09656993, 0.09662844, 0.09483631, 0.09806578, 0.09467498,\n",
       "        0.09584727, 0.09716401, 0.09619914, 0.09616103, 0.0971114 ,\n",
       "        0.09719372, 0.09680242, 0.09448467, 0.09646443, 0.09715532]),\n",
       " array([0.1548794 , 0.17267388, 0.15529373, 0.16242434, 0.1596909 ,\n",
       "        0.15495128, 0.15527264, 0.15983345, 0.1575965 , 0.15717931,\n",
       "        0.16244658, 0.15561397, 0.1553219 , 0.15539208, 0.15679842,\n",
       "        0.16187711, 0.1620769 , 0.15729115, 0.16580275, 0.16193418,\n",
       "        0.15511914, 0.16488208, 0.16364809, 0.15704699, 0.15506207,\n",
       "        0.16001615, 0.16509124, 0.16159412, 0.15578012, 0.15784769,\n",
       "        0.15755863, 0.15496299, 0.17063241, 0.15971208, 0.15484805,\n",
       "        0.15499815, 0.15669052, 0.1623061 , 0.15613885, 0.15653099,\n",
       "        0.15485564, 0.15486586, 0.15524897, 0.17134581, 0.15502782,\n",
       "        0.16003218, 0.15781957, 0.15557069, 0.17228987, 0.15562669,\n",
       "        0.16836545, 0.15823225, 0.16880841, 0.1652716 , 0.15530279,\n",
       "        0.17475961, 0.15751114, 0.15489291, 0.1553424 , 0.15650656,\n",
       "        0.1620388 , 0.15559537, 0.17464146, 0.15536377, 0.17135765,\n",
       "        0.15793863, 0.15497399, 0.17085648, 0.15484192, 0.15849177,\n",
       "        0.16084553, 0.15608421, 0.15485831, 0.15506685, 0.15500087,\n",
       "        0.16728919, 0.1678931 , 0.16156913, 0.16003647, 0.15632029,\n",
       "        0.15600832, 0.15496108, 0.1665704 , 0.15502169, 0.16175828,\n",
       "        0.15490021, 0.15765292, 0.15686455, 0.15969322, 0.15906505,\n",
       "        0.17197651, 0.16088525, 0.15727934, 0.15505104, 0.15496039,\n",
       "        0.17155644, 0.15811103, 0.15665084, 0.16192504, 0.15523058,\n",
       "        0.17031888, 0.16459776, 0.15640661, 0.15557382, 0.15514402,\n",
       "        0.16295161, 0.16348688, 0.15575909, 0.15587283, 0.15516449,\n",
       "        0.15507814, 0.15581693, 0.16702751, 0.15801784, 0.15497227,\n",
       "        0.16388411, 0.15749115, 0.16647588, 0.17520158, 0.17203751,\n",
       "        0.17577231, 0.17304108, 0.15961266, 0.15565065, 0.16631634,\n",
       "        0.15486581, 0.16509504, 0.17123126, 0.15615601, 0.17125907,\n",
       "        0.155075  , 0.15712575, 0.15490569, 0.1563544 , 0.15501792,\n",
       "        0.17134971, 0.15526683, 0.16015546, 0.1603712 , 0.15787747,\n",
       "        0.15501029, 0.16053152, 0.15489165, 0.16408879, 0.15490675,\n",
       "        0.15606122, 0.16090088, 0.17006984, 0.16171667, 0.16360246,\n",
       "        0.15684147, 0.16499769, 0.15649316, 0.1681514 , 0.17271023,\n",
       "        0.15524142, 0.15495589, 0.15543847, 0.1748959 , 0.16580162,\n",
       "        0.16580577, 0.15546406, 0.15498921, 0.15627528, 0.17310782,\n",
       "        0.15906011, 0.15485661, 0.16346954, 0.15854409, 0.15524153,\n",
       "        0.16067986, 0.15808035, 0.15549336, 0.17416379, 0.17130212,\n",
       "        0.16430919, 0.15714388, 0.15513188, 0.15500105, 0.15729267,\n",
       "        0.16316599, 0.15500982, 0.15500774, 0.15485011, 0.15507093,\n",
       "        0.15905137, 0.15723196, 0.17603698, 0.15485672, 0.15486223,\n",
       "        0.15822967, 0.15784414, 0.15835649, 0.15549322, 0.16579831,\n",
       "        0.16298476, 0.15629145, 0.15788371, 0.15489469, 0.15690974,\n",
       "        0.15873625, 0.16298217, 0.16008899, 0.15500538, 0.17294076,\n",
       "        0.16645066, 0.15507035, 0.1577517 , 0.15523777, 0.15601278,\n",
       "        0.15584944, 0.16229731, 0.15531777, 0.15920864, 0.15487668,\n",
       "        0.15498847, 0.16260462, 0.15505129, 0.15485065, 0.15495842,\n",
       "        0.16219421, 0.15576019, 0.16831992, 0.15514175, 0.15485697,\n",
       "        0.15617412, 0.15511554, 0.1548621 , 0.15622813, 0.17039122,\n",
       "        0.15485129, 0.16338141, 0.15598586, 0.15484217, 0.16045028,\n",
       "        0.15554902, 0.15644061, 0.15527445, 0.17585682, 0.15484298,\n",
       "        0.15503084, 0.16447295, 0.16476123, 0.16098962, 0.15947857,\n",
       "        0.16215487, 0.17002489, 0.15497224, 0.16257047, 0.17672535,\n",
       "        0.15572445, 0.15513294, 0.15489901, 0.15739756, 0.15486539,\n",
       "        0.16154824, 0.15544815, 0.15497777, 0.16240332, 0.15501248,\n",
       "        0.1565106 , 0.15498096, 0.15639239, 0.15539612, 0.15589331,\n",
       "        0.15852988, 0.17136074, 0.15949696, 0.15490208, 0.15828693,\n",
       "        0.16699516, 0.16316196, 0.15492343, 0.16018407, 0.15541987,\n",
       "        0.15988848, 0.15968036, 0.16316903, 0.15940977, 0.15534678,\n",
       "        0.15546993, 0.16047471, 0.16471993, 0.1548613 , 0.15486986,\n",
       "        0.1554454 , 0.15895722, 0.15686039, 0.16837859, 0.16014073,\n",
       "        0.15662171, 0.1552689 , 0.15558313, 0.15653061, 0.17383013,\n",
       "        0.15908338, 0.1595205 , 0.15731811, 0.15486601, 0.16544323,\n",
       "        0.15494397, 0.15501267, 0.17290437, 0.15984062, 0.16748176,\n",
       "        0.15513286, 0.15554767, 0.15732252, 0.15604939, 0.15503867,\n",
       "        0.1583438 , 0.15624244, 0.17072161, 0.1620207 , 0.15484237,\n",
       "        0.15517621, 0.1562023 , 0.15492481, 0.1561383 , 0.17038319,\n",
       "        0.15636672, 0.1559075 , 0.15495542, 0.15544395, 0.15503394,\n",
       "        0.15521758, 0.15620173, 0.17253077, 0.16355387, 0.15651836,\n",
       "        0.17570905, 0.15651877, 0.15886269, 0.15729988, 0.15495384,\n",
       "        0.15526652, 0.16623535, 0.15496963, 0.16323709, 0.15484331,\n",
       "        0.16666996, 0.15488277, 0.16290874, 0.15527683, 0.15591565,\n",
       "        0.15929996, 0.17265298, 0.15487345, 0.16013949, 0.15940411,\n",
       "        0.15931625, 0.15506863, 0.15484644, 0.15546846, 0.16601952,\n",
       "        0.15555325, 0.15506967, 0.15490669, 0.15902549, 0.16915406,\n",
       "        0.15666934, 0.15603822, 0.15484755, 0.15504265, 0.16735149,\n",
       "        0.15879189, 0.16127661, 0.15673713, 0.1552511 , 0.15693349,\n",
       "        0.15493417, 0.15484319, 0.15484208, 0.16435829, 0.15591782,\n",
       "        0.15530737, 0.15611023, 0.16060155, 0.1584295 , 0.16278634,\n",
       "        0.15563526, 0.16458614, 0.15699654, 0.15528743, 0.15823221,\n",
       "        0.16721801, 0.15861607, 0.16993391, 0.15597346, 0.17529915,\n",
       "        0.15899943, 0.15484379, 0.16842139, 0.1622469 , 0.15793426,\n",
       "        0.15576078, 0.17263568, 0.15484702, 0.15505204, 0.15488306,\n",
       "        0.15490105, 0.16201434, 0.15770137, 0.15495995, 0.15487835,\n",
       "        0.15802069, 0.15494971, 0.15735142, 0.15729634, 0.17222339,\n",
       "        0.16530098, 0.16024575, 0.15745766, 0.15516392, 0.15514712,\n",
       "        0.16095946, 0.15740448, 0.17072522, 0.15491796, 0.16771157,\n",
       "        0.15589805, 0.16088986, 0.15762038, 0.15499854, 0.16859197,\n",
       "        0.1557109 , 0.15973025, 0.15708918, 0.16853442, 0.15977217,\n",
       "        0.15484205, 0.17600111, 0.16929195, 0.15678377, 0.15485497,\n",
       "        0.16012795, 0.15713346, 0.15606963, 0.16732657, 0.15886057,\n",
       "        0.15729818, 0.16291375, 0.15524145, 0.15539882, 0.15484282,\n",
       "        0.16136631, 0.15555564, 0.17481327, 0.16302329, 0.16287781,\n",
       "        0.16019035, 0.15716288, 0.15556855, 0.15487218, 0.17382923,\n",
       "        0.15499909, 0.15485819, 0.15508697, 0.15753334, 0.15523602,\n",
       "        0.16237591, 0.1745492 , 0.15496746, 0.15484646, 0.15485625,\n",
       "        0.15529779, 0.16805844, 0.1579073 , 0.15489334, 0.15750293,\n",
       "        0.15612191, 0.15648228, 0.15533814, 0.15560633, 0.15570869,\n",
       "        0.15502747, 0.165702  , 0.15593101, 0.15562606, 0.15606701,\n",
       "        0.15559654, 0.15877666, 0.17471871, 0.15985403, 0.17593043,\n",
       "        0.1622924 , 0.15484393, 0.15491183, 0.16015429, 0.16044694,\n",
       "        0.15484443, 0.16011613, 0.15484203, 0.15898311, 0.15578073,\n",
       "        0.15699001, 0.17056278, 0.17571874, 0.15882489, 0.16522145,\n",
       "        0.15997805, 0.15582477, 0.15670429, 0.1575464 , 0.15902894,\n",
       "        0.1551179 , 0.15499516, 0.16047983, 0.15492882, 0.15960041,\n",
       "        0.15497748, 0.15484265, 0.15507608, 0.15602054, 0.15690996,\n",
       "        0.16232573, 0.15539229, 0.16143426, 0.17026238, 0.15494138,\n",
       "        0.16734766, 0.15616848, 0.15866936, 0.15514174, 0.15512729,\n",
       "        0.15881895, 0.15902346, 0.15637671, 0.16912178, 0.15686111,\n",
       "        0.15540714, 0.15502334, 0.15641868, 0.15660471, 0.15603541,\n",
       "        0.16404246, 0.16222637, 0.17052337, 0.15515697, 0.15514923,\n",
       "        0.16830543, 0.15511939, 0.16813369, 0.15501501, 0.15486657,\n",
       "        0.16651255, 0.15727629, 0.15599689, 0.15553738, 0.15538278,\n",
       "        0.1585578 , 0.15527908, 0.15846114, 0.15484719, 0.15484939,\n",
       "        0.1629152 , 0.15861084, 0.15692915, 0.15561418, 0.1572452 ,\n",
       "        0.15559989, 0.15583233, 0.15601892, 0.16207082, 0.15492207,\n",
       "        0.15640027, 0.16364114, 0.15770425, 0.16943908, 0.15484386,\n",
       "        0.16944326, 0.1550565 , 0.15987236, 0.15503938, 0.16272299,\n",
       "        0.15493603, 0.17024182, 0.15820576, 0.1722362 , 0.15505672,\n",
       "        0.15831753, 0.15491569, 0.15560472, 0.15957791, 0.15582989,\n",
       "        0.15498661, 0.16079197, 0.15556012, 0.16247801, 0.15657304,\n",
       "        0.15484349, 0.15545978, 0.15596828, 0.16509613, 0.15784026,\n",
       "        0.15529093, 0.1578431 , 0.16534824, 0.15523179, 0.15509404,\n",
       "        0.15484432, 0.15616709, 0.15606774, 0.16758906, 0.16024291,\n",
       "        0.15536536, 0.15521754, 0.15484276, 0.15486984, 0.15487531,\n",
       "        0.15499887, 0.15525366, 0.16414415, 0.16734442, 0.16283889,\n",
       "        0.15484238, 0.1548785 , 0.15876111, 0.15566855, 0.16337117,\n",
       "        0.15912167, 0.16620581, 0.15499205, 0.17015511, 0.16341398,\n",
       "        0.16159113, 0.15485239, 0.15612593, 0.15797141, 0.16479098,\n",
       "        0.15635657, 0.15484269, 0.1680125 , 0.16327436, 0.16016727,\n",
       "        0.15852154, 0.15622752, 0.15609338, 0.1550931 , 0.16570957,\n",
       "        0.15624335, 0.15658448, 0.15492174, 0.15487424, 0.1575227 ,\n",
       "        0.15484246, 0.17281382, 0.15484504, 0.1635797 , 0.16363831,\n",
       "        0.1550756 , 0.1553389 , 0.16589592, 0.1681211 , 0.1619621 ,\n",
       "        0.1603559 , 0.16308763, 0.15616267, 0.15532865, 0.16371359,\n",
       "        0.15541749, 0.15711347, 0.1603403 , 0.15484192, 0.15521285,\n",
       "        0.15563789, 0.15490141, 0.15812066, 0.15545163, 0.15486025,\n",
       "        0.1563759 , 0.16246798, 0.15520767, 0.15484236, 0.16331233,\n",
       "        0.15662109, 0.15495933, 0.15494895, 0.15834456, 0.15572672,\n",
       "        0.15554171, 0.15519011, 0.16840039, 0.15997409, 0.15753899,\n",
       "        0.17157   , 0.15604495, 0.15485764, 0.1596451 , 0.1580733 ,\n",
       "        0.17359192, 0.15488041, 0.17014695, 0.15493597, 0.16136875,\n",
       "        0.15526473, 0.15561346, 0.15509448, 0.1680609 , 0.15837854,\n",
       "        0.15875907, 0.15551522, 0.16198866, 0.15524795, 0.16774629,\n",
       "        0.15911939, 0.15518888, 0.1554589 , 0.15940957, 0.15577389,\n",
       "        0.16808656, 0.15498361, 0.15831809, 0.15496709, 0.16542826,\n",
       "        0.16967699, 0.15526115, 0.17364233, 0.16830741, 0.15488272,\n",
       "        0.16047389, 0.15692174, 0.15712841, 0.15588352, 0.15490362,\n",
       "        0.16110431, 0.15662025, 0.16209886, 0.16193522, 0.16124965,\n",
       "        0.16068233, 0.15488672, 0.16916157, 0.15509396, 0.15502668,\n",
       "        0.15485226, 0.16060003, 0.15625894, 0.1555825 , 0.15484317,\n",
       "        0.17070804, 0.16947498, 0.15572658, 0.16388144, 0.15962724,\n",
       "        0.15751749, 0.16879713, 0.17145532, 0.15592467, 0.15513551,\n",
       "        0.15484523, 0.15826317, 0.15512688, 0.16031545, 0.1601404 ,\n",
       "        0.16766256, 0.15583506, 0.16153949, 0.15517392, 0.15527934,\n",
       "        0.15940634, 0.17175296, 0.1555404 , 0.15556882, 0.15567619,\n",
       "        0.15526187, 0.16574534, 0.15510094, 0.17507208, 0.16719849,\n",
       "        0.1604916 , 0.15575976, 0.15728777, 0.15608461, 0.15664719,\n",
       "        0.16274966, 0.15563409, 0.15547295, 0.15529905, 0.15739749,\n",
       "        0.1557845 , 0.16469587, 0.17071196, 0.15647573, 0.15624932,\n",
       "        0.15622047, 0.15544829, 0.15545609, 0.15597441, 0.1567933 ,\n",
       "        0.15484379, 0.15516328, 0.1562924 , 0.15491633, 0.16066162,\n",
       "        0.1555876 , 0.15486028, 0.15494357, 0.16696139, 0.15731561,\n",
       "        0.15552984, 0.15492767, 0.15882689, 0.15494675, 0.15780572,\n",
       "        0.15999937, 0.15543878, 0.16081017, 0.16521918, 0.15543017,\n",
       "        0.15567957, 0.1646809 , 0.1582806 , 0.15503151, 0.16670418,\n",
       "        0.17468776, 0.1717141 , 0.15492249, 0.17058393, 0.16977304,\n",
       "        0.15555961, 0.15670491, 0.15512317, 0.15529707, 0.16732111,\n",
       "        0.15555523, 0.15934504, 0.15597911, 0.1551825 , 0.15516905,\n",
       "        0.15590387, 0.15492969, 0.15484401, 0.15538308, 0.15487281,\n",
       "        0.15750374, 0.15502916, 0.16494721, 0.17364781, 0.15572492,\n",
       "        0.15524334, 0.17029944, 0.15906011, 0.16078816, 0.15899415,\n",
       "        0.15498505, 0.15959087, 0.16191555, 0.15836939, 0.15522609,\n",
       "        0.15550564, 0.1608164 , 0.15567469, 0.1562991 , 0.15485319,\n",
       "        0.17039275, 0.15594348, 0.16590824, 0.16647548, 0.15641326,\n",
       "        0.1660788 , 0.16629959, 0.15631841, 0.15892469, 0.16543123,\n",
       "        0.15484195, 0.15920643, 0.15863526, 0.15927466, 0.15792286,\n",
       "        0.15484676, 0.15570142, 0.16129318, 0.15484262, 0.15796399,\n",
       "        0.17329006, 0.15500356, 0.16847697, 0.15697203, 0.15505799,\n",
       "        0.17281342, 0.16097507, 0.15714027, 0.15503018, 0.15556664,\n",
       "        0.17363218, 0.16102999, 0.15664555, 0.16176314, 0.17166336,\n",
       "        0.16402219, 0.15780043, 0.15558087, 0.15561168, 0.16248208,\n",
       "        0.15539412, 0.16147245, 0.16629099, 0.16065317, 0.15898475,\n",
       "        0.15491386, 0.15484982, 0.16439593, 0.16028284, 0.16176055,\n",
       "        0.17183895, 0.17697857, 0.17004001, 0.16081572, 0.16346484,\n",
       "        0.15973633, 0.1549411 , 0.15495353, 0.17231556, 0.15484253,\n",
       "        0.17582408, 0.15822458, 0.15666507, 0.15505862, 0.1659438 ,\n",
       "        0.15822353, 0.1647197 , 0.16237162, 0.15694805, 0.15940435,\n",
       "        0.16951885, 0.15610693, 0.15660052, 0.1568376 , 0.15581092,\n",
       "        0.161732  , 0.15559744, 0.15494083, 0.15649861, 0.16140471,\n",
       "        0.15487394, 0.15759204, 0.15497539, 0.15502927, 0.15698662,\n",
       "        0.16870938, 0.15917946, 0.16161858, 0.15486219, 0.15544839,\n",
       "        0.17244513, 0.15723577, 0.15484803, 0.16876349, 0.17485041,\n",
       "        0.1553085 , 0.16271486, 0.15485041, 0.15546711, 0.15487503,\n",
       "        0.16800018, 0.16411933, 0.15499119, 0.16601659, 0.15511251,\n",
       "        0.15497943, 0.15607975, 0.15556243, 0.16201035, 0.15593275,\n",
       "        0.1632196 , 0.15998401, 0.15506224, 0.172633  , 0.16886346,\n",
       "        0.15494915, 0.15928224, 0.16083308, 0.15552104, 0.15513283,\n",
       "        0.1561829 , 0.15695093, 0.15967576, 0.16352371, 0.15485347,\n",
       "        0.15848935, 0.17596698, 0.15939741, 0.1583348 , 0.15634017,\n",
       "        0.15513223, 0.15529497, 0.16630112, 0.16993546, 0.16879201,\n",
       "        0.1560971 , 0.15842968, 0.1549402 , 0.15500278, 0.15799284,\n",
       "        0.15868836, 0.15599034, 0.17200249, 0.15492979, 0.1583556 ]))"
      ]
     },
     "execution_count": 20,
     "metadata": {},
     "output_type": "execute_result"
    }
   ],
   "source": [
    "port_returns = []\n",
    "port_volatilities = []\n",
    "\n",
    "for i in range(1000):\n",
    "    weights = np.random.random(num_assets)\n",
    "    weights /= np.sum(weights)\n",
    "    port_returns.append(np.sum(weights * log_returns.mean()) * 250)\n",
    "    port_volatilities.append(np.sqrt(np.dot(weights.T, np.dot(log_returns.cov() * 250, weights))))\n",
    "\n",
    "port_returns = np.array(port_returns)\n",
    "port_volatilities = np.array(port_volatilities)\n",
    "\n",
    "port_returns, port_volatilities"
   ]
  },
  {
   "cell_type": "code",
   "execution_count": 21,
   "id": "993b69e6",
   "metadata": {},
   "outputs": [
    {
     "data": {
      "text/html": [
       "<div>\n",
       "<style scoped>\n",
       "    .dataframe tbody tr th:only-of-type {\n",
       "        vertical-align: middle;\n",
       "    }\n",
       "\n",
       "    .dataframe tbody tr th {\n",
       "        vertical-align: top;\n",
       "    }\n",
       "\n",
       "    .dataframe thead th {\n",
       "        text-align: right;\n",
       "    }\n",
       "</style>\n",
       "<table border=\"1\" class=\"dataframe\">\n",
       "  <thead>\n",
       "    <tr style=\"text-align: right;\">\n",
       "      <th></th>\n",
       "      <th>Returns</th>\n",
       "      <th>Volatilites</th>\n",
       "    </tr>\n",
       "  </thead>\n",
       "  <tbody>\n",
       "    <tr>\n",
       "      <th>0</th>\n",
       "      <td>0.096251</td>\n",
       "      <td>0.154879</td>\n",
       "    </tr>\n",
       "    <tr>\n",
       "      <th>1</th>\n",
       "      <td>0.098224</td>\n",
       "      <td>0.172674</td>\n",
       "    </tr>\n",
       "    <tr>\n",
       "      <th>2</th>\n",
       "      <td>0.096043</td>\n",
       "      <td>0.155294</td>\n",
       "    </tr>\n",
       "    <tr>\n",
       "      <th>3</th>\n",
       "      <td>0.097548</td>\n",
       "      <td>0.162424</td>\n",
       "    </tr>\n",
       "    <tr>\n",
       "      <th>4</th>\n",
       "      <td>0.095370</td>\n",
       "      <td>0.159691</td>\n",
       "    </tr>\n",
       "  </tbody>\n",
       "</table>\n",
       "</div>"
      ],
      "text/plain": [
       "    Returns  Volatilites\n",
       "0  0.096251     0.154879\n",
       "1  0.098224     0.172674\n",
       "2  0.096043     0.155294\n",
       "3  0.097548     0.162424\n",
       "4  0.095370     0.159691"
      ]
     },
     "execution_count": 21,
     "metadata": {},
     "output_type": "execute_result"
    }
   ],
   "source": [
    "portfolios = pd.DataFrame({\"Returns\":port_returns, \"Volatilites\" : port_volatilities})\n",
    "portfolios.head()"
   ]
  },
  {
   "cell_type": "code",
   "execution_count": 22,
   "id": "1db1eedb",
   "metadata": {},
   "outputs": [
    {
     "data": {
      "text/html": [
       "<div>\n",
       "<style scoped>\n",
       "    .dataframe tbody tr th:only-of-type {\n",
       "        vertical-align: middle;\n",
       "    }\n",
       "\n",
       "    .dataframe tbody tr th {\n",
       "        vertical-align: top;\n",
       "    }\n",
       "\n",
       "    .dataframe thead th {\n",
       "        text-align: right;\n",
       "    }\n",
       "</style>\n",
       "<table border=\"1\" class=\"dataframe\">\n",
       "  <thead>\n",
       "    <tr style=\"text-align: right;\">\n",
       "      <th></th>\n",
       "      <th>Returns</th>\n",
       "      <th>Volatilites</th>\n",
       "    </tr>\n",
       "  </thead>\n",
       "  <tbody>\n",
       "    <tr>\n",
       "      <th>995</th>\n",
       "      <td>0.097194</td>\n",
       "      <td>0.158688</td>\n",
       "    </tr>\n",
       "    <tr>\n",
       "      <th>996</th>\n",
       "      <td>0.096802</td>\n",
       "      <td>0.155990</td>\n",
       "    </tr>\n",
       "    <tr>\n",
       "      <th>997</th>\n",
       "      <td>0.094485</td>\n",
       "      <td>0.172002</td>\n",
       "    </tr>\n",
       "    <tr>\n",
       "      <th>998</th>\n",
       "      <td>0.096464</td>\n",
       "      <td>0.154930</td>\n",
       "    </tr>\n",
       "    <tr>\n",
       "      <th>999</th>\n",
       "      <td>0.097155</td>\n",
       "      <td>0.158356</td>\n",
       "    </tr>\n",
       "  </tbody>\n",
       "</table>\n",
       "</div>"
      ],
      "text/plain": [
       "      Returns  Volatilites\n",
       "995  0.097194     0.158688\n",
       "996  0.096802     0.155990\n",
       "997  0.094485     0.172002\n",
       "998  0.096464     0.154930\n",
       "999  0.097155     0.158356"
      ]
     },
     "execution_count": 22,
     "metadata": {},
     "output_type": "execute_result"
    }
   ],
   "source": [
    "portfolios.tail()"
   ]
  },
  {
   "cell_type": "code",
   "execution_count": 23,
   "id": "3edd89ce",
   "metadata": {},
   "outputs": [
    {
     "data": {
      "text/plain": [
       "Text(0, 0.5, 'Expected Returns')"
      ]
     },
     "execution_count": 23,
     "metadata": {},
     "output_type": "execute_result"
    },
    {
     "data": {
      "image/png": "[encoded data removed]",
      "text/plain": [
       "<Figure size 1080x576 with 1 Axes>"
      ]
     },
     "metadata": {
      "needs_background": "light"
     },
     "output_type": "display_data"
    }
   ],
   "source": [
    "portfolios.plot(x=\"Volatilites\", y=\"Returns\", kind=\"scatter\", figsize=(15, 8))\n",
    "plt.xlabel(\"Expected Volatilities\")\n",
    "plt.ylabel(\"Expected Returns\")"
   ]
  },
  {
   "cell_type": "code",
   "execution_count": null,
   "id": "1c3fb381",
   "metadata": {},
   "outputs": [],
   "source": []
  }
 ],
 "metadata": {
  "kernelspec": {
   "display_name": "Python 3 (ipykernel)",
   "language": "python",
   "name": "python3"
  },
  "language_info": {
   "codemirror_mode": {
    "name": "ipython",
    "version": 3
   },
   "file_extension": ".py",
   "mimetype": "text/x-python",
   "name": "python",
   "nbconvert_exporter": "python",
   "pygments_lexer": "ipython3",
   "version": "3.7.13"
  }
 },
 "nbformat": 4,
 "nbformat_minor": 5
}
