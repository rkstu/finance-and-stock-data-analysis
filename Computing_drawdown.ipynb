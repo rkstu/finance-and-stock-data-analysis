{
 "cells": [
  {
   "cell_type": "markdown",
   "id": "998c9158",
   "metadata": {},
   "source": [
    "# Computing drawdown for SPY ETF\n",
    "\n",
    "Drawdown is the maximum decline from peak to trough during a specific period before a new peak is reached. Every trading strategy experiences drawdowns. Computing it helps you compare the relative riskiness between assets or strategies.\n",
    "\n",
    "Drawdown and max drawdown focus on capital preservation."
   ]
  },
  {
   "cell_type": "markdown",
   "id": "2af281fc",
   "metadata": {},
   "source": [
    "## Step 1: Get the data"
   ]
  },
  {
   "cell_type": "code",
   "execution_count": 1,
   "id": "cc2c370b",
   "metadata": {},
   "outputs": [],
   "source": [
    "# !pip install yfinance"
   ]
  },
  {
   "cell_type": "code",
   "execution_count": 2,
   "id": "1e69a0ab",
   "metadata": {},
   "outputs": [],
   "source": [
    "import yfinance as yf\n",
    "import numpy as np\n",
    "import pandas as pd"
   ]
  },
  {
   "cell_type": "code",
   "execution_count": 3,
   "id": "cd4e28d5",
   "metadata": {},
   "outputs": [
    {
     "name": "stdout",
     "output_type": "stream",
     "text": [
      "[*********************100%***********************]  1 of 1 completed\n"
     ]
    }
   ],
   "source": [
    "data = yf.download(\"SPY\", start=\"2020-01-01\", end = \"2022-12-31\")"
   ]
  },
  {
   "cell_type": "code",
   "execution_count": 4,
   "id": "d2553b83",
   "metadata": {},
   "outputs": [
    {
     "data": {
      "text/html": [
       "<div>\n",
       "<style scoped>\n",
       "    .dataframe tbody tr th:only-of-type {\n",
       "        vertical-align: middle;\n",
       "    }\n",
       "\n",
       "    .dataframe tbody tr th {\n",
       "        vertical-align: top;\n",
       "    }\n",
       "\n",
       "    .dataframe thead th {\n",
       "        text-align: right;\n",
       "    }\n",
       "</style>\n",
       "<table border=\"1\" class=\"dataframe\">\n",
       "  <thead>\n",
       "    <tr style=\"text-align: right;\">\n",
       "      <th></th>\n",
       "      <th>Open</th>\n",
       "      <th>High</th>\n",
       "      <th>Low</th>\n",
       "      <th>Close</th>\n",
       "      <th>Adj Close</th>\n",
       "      <th>Volume</th>\n",
       "    </tr>\n",
       "    <tr>\n",
       "      <th>Date</th>\n",
       "      <th></th>\n",
       "      <th></th>\n",
       "      <th></th>\n",
       "      <th></th>\n",
       "      <th></th>\n",
       "      <th></th>\n",
       "    </tr>\n",
       "  </thead>\n",
       "  <tbody>\n",
       "    <tr>\n",
       "      <th>2020-01-02</th>\n",
       "      <td>323.540009</td>\n",
       "      <td>324.890015</td>\n",
       "      <td>322.529999</td>\n",
       "      <td>324.869995</td>\n",
       "      <td>309.694946</td>\n",
       "      <td>59151200</td>\n",
       "    </tr>\n",
       "    <tr>\n",
       "      <th>2020-01-03</th>\n",
       "      <td>321.160004</td>\n",
       "      <td>323.640015</td>\n",
       "      <td>321.100006</td>\n",
       "      <td>322.410004</td>\n",
       "      <td>307.349792</td>\n",
       "      <td>77709700</td>\n",
       "    </tr>\n",
       "    <tr>\n",
       "      <th>2020-01-06</th>\n",
       "      <td>320.489990</td>\n",
       "      <td>323.730011</td>\n",
       "      <td>320.359985</td>\n",
       "      <td>323.640015</td>\n",
       "      <td>308.522400</td>\n",
       "      <td>55653900</td>\n",
       "    </tr>\n",
       "    <tr>\n",
       "      <th>2020-01-07</th>\n",
       "      <td>323.019989</td>\n",
       "      <td>323.540009</td>\n",
       "      <td>322.239990</td>\n",
       "      <td>322.730011</td>\n",
       "      <td>307.654907</td>\n",
       "      <td>40496400</td>\n",
       "    </tr>\n",
       "    <tr>\n",
       "      <th>2020-01-08</th>\n",
       "      <td>322.940002</td>\n",
       "      <td>325.779999</td>\n",
       "      <td>322.670013</td>\n",
       "      <td>324.450012</td>\n",
       "      <td>309.294556</td>\n",
       "      <td>68296000</td>\n",
       "    </tr>\n",
       "  </tbody>\n",
       "</table>\n",
       "</div>"
      ],
      "text/plain": [
       "                  Open        High         Low       Close   Adj Close  \\\n",
       "Date                                                                     \n",
       "2020-01-02  323.540009  324.890015  322.529999  324.869995  309.694946   \n",
       "2020-01-03  321.160004  323.640015  321.100006  322.410004  307.349792   \n",
       "2020-01-06  320.489990  323.730011  320.359985  323.640015  308.522400   \n",
       "2020-01-07  323.019989  323.540009  322.239990  322.730011  307.654907   \n",
       "2020-01-08  322.940002  325.779999  322.670013  324.450012  309.294556   \n",
       "\n",
       "              Volume  \n",
       "Date                  \n",
       "2020-01-02  59151200  \n",
       "2020-01-03  77709700  \n",
       "2020-01-06  55653900  \n",
       "2020-01-07  40496400  \n",
       "2020-01-08  68296000  "
      ]
     },
     "execution_count": 4,
     "metadata": {},
     "output_type": "execute_result"
    }
   ],
   "source": [
    "data.head()"
   ]
  },
  {
   "cell_type": "code",
   "execution_count": 5,
   "id": "ebad8eab",
   "metadata": {},
   "outputs": [
    {
     "data": {
      "text/plain": [
       "((756, 6), 4536)"
      ]
     },
     "execution_count": 5,
     "metadata": {},
     "output_type": "execute_result"
    }
   ],
   "source": [
    "data.shape, data.size"
   ]
  },
  {
   "cell_type": "code",
   "execution_count": 6,
   "id": "e00ec6f4",
   "metadata": {},
   "outputs": [
    {
     "data": {
      "text/plain": [
       "Open         0\n",
       "High         0\n",
       "Low          0\n",
       "Close        0\n",
       "Adj Close    0\n",
       "Volume       0\n",
       "dtype: int64"
      ]
     },
     "execution_count": 6,
     "metadata": {},
     "output_type": "execute_result"
    }
   ],
   "source": [
    "# cheking if data contains any null values\n",
    "data.isna().sum()"
   ]
  },
  {
   "cell_type": "code",
   "execution_count": 7,
   "id": "0f14ac57",
   "metadata": {},
   "outputs": [],
   "source": [
    "# Calulating returns (curr price - privious price)/previous price\n",
    "returns = data[\"Adj Close\"].pct_change()"
   ]
  },
  {
   "cell_type": "code",
   "execution_count": 8,
   "id": "9da3246f",
   "metadata": {},
   "outputs": [
    {
     "data": {
      "text/plain": [
       "Date\n",
       "2020-01-02         NaN\n",
       "2020-01-03   -0.007572\n",
       "2020-01-06    0.003815\n",
       "2020-01-07   -0.002812\n",
       "2020-01-08    0.005330\n",
       "                ...   \n",
       "2022-12-23    0.005752\n",
       "2022-12-27   -0.003944\n",
       "2022-12-28   -0.012428\n",
       "2022-12-29    0.018000\n",
       "2022-12-30   -0.002634\n",
       "Name: Adj Close, Length: 756, dtype: float64"
      ]
     },
     "execution_count": 8,
     "metadata": {},
     "output_type": "execute_result"
    }
   ],
   "source": [
    "returns"
   ]
  },
  {
   "cell_type": "markdown",
   "id": "26776bcd",
   "metadata": {},
   "source": [
    "## Step 2: Create the drawdown function\n",
    "\n",
    "When computing returns, the first value is turned into np.nan. I replace it with a 0.0 to compute cumulative returns. Then I create a cumulative return series which is the cumulative product of 1 plus the return. Next, I use NumPy’s accumulate function. Accumulate tracks the running maximum value which is perfect for keeping tabs on the peak return.\n",
    "\n",
    "Finally, I compute the percentage difference between the cumulative and peak returns."
   ]
  },
  {
   "cell_type": "code",
   "execution_count": 9,
   "id": "48ee2489",
   "metadata": {},
   "outputs": [
    {
     "data": {
      "text/plain": [
       "0       2\n",
       "1       6\n",
       "2      30\n",
       "3      60\n",
       "4      60\n",
       "5    3120\n",
       "6       0\n",
       "dtype: int64"
      ]
     },
     "execution_count": 9,
     "metadata": {},
     "output_type": "execute_result"
    }
   ],
   "source": [
    "# EXTRA - cumprod\n",
    "df = pd.Series([2, 3, 5, 2, 1, 52, 0])\n",
    "df.cumprod()"
   ]
  },
  {
   "cell_type": "code",
   "execution_count": 12,
   "id": "3b7f0107",
   "metadata": {},
   "outputs": [],
   "source": [
    "def drawdown(returns, printMinimumDrop=False):\n",
    "    \"\"\"\n",
    "    Determine the drawdown\n",
    "    \n",
    "    Parameters\n",
    "    ----------\n",
    "    returns : pd.Series of daily returns of an asset, noncumulative\n",
    "    \n",
    "    Returns\n",
    "    ------\n",
    "    drawdown : pd.Series\n",
    "        \n",
    "    \"\"\"\n",
    "    # replace the first nan value with 0.0\n",
    "    returns.fillna(0.0, inplace = True)\n",
    "    \n",
    "    # Create cumulative returns - returns w.r.t staring price\n",
    "    cumulative = (returns + 1).cumprod()\n",
    "    \n",
    "    # np.maximum.accumulate takes pd.Series of running max \n",
    "    # value and returns a pd.Series with each value being \n",
    "    # maximum value from start\n",
    "    running_max = np.maximum.accumulate(cumulative)\n",
    "    \n",
    "    if printMinimumDrop:\n",
    "        print(f'Maximum drop to { np.min(cumulative)*100:.2f}% on {cumulative[cumulative == np.min(cumulative)].index.values[0]}')\n",
    "    \n",
    "    # compute the change between the cumulative return\n",
    "    # and the running maximum return\n",
    "    return (cumulative - running_max) / running_max\n",
    "    \n",
    "    "
   ]
  },
  {
   "cell_type": "code",
   "execution_count": 17,
   "id": "431f429a",
   "metadata": {},
   "outputs": [
    {
     "name": "stdout",
     "output_type": "stream",
     "text": [
      "Maximum drop to 69.03% on 2020-03-23T00:00:00.000000000\n"
     ]
    },
    {
     "data": {
      "image/png": "[encoded data removed]",
      "text/plain": [
       "<Figure size 864x576 with 1 Axes>"
      ]
     },
     "metadata": {
      "needs_background": "light"
     },
     "output_type": "display_data"
    }
   ],
   "source": [
    "# Plot \n",
    "drawdown(returns, True).plot(kind=\"area\", color=\"salmon\", alpha = 0.5, figsize=(12, 8));"
   ]
  },
  {
   "cell_type": "markdown",
   "id": "2100a559",
   "metadata": {},
   "source": [
    "## Step 3: Create a max drawdown function\n",
    "\n",
    "Using drawdown to compute a max drawdown chart.\n",
    "\n",
    "The max drawdown differs from the drawdown by tracking the maximum drawdown of a 30-day rolling window of returns"
   ]
  },
  {
   "cell_type": "code",
   "execution_count": 14,
   "id": "1355664e",
   "metadata": {},
   "outputs": [],
   "source": [
    "def max_drawdown(returns):\n",
    "    \"\"\"\n",
    "    Determine the maximum drawdown\n",
    "    \n",
    "    Parameters\n",
    "    ----------\n",
    "    returns : pd.Series of daily returns of an asset, noncumulative\n",
    "    \n",
    "    Returns\n",
    "    ------\n",
    "    max_drawdown : float\n",
    "    \n",
    "    \"\"\"\n",
    "    return np.min(drawdown(returns))"
   ]
  },
  {
   "cell_type": "code",
   "execution_count": 15,
   "id": "c44eab51",
   "metadata": {},
   "outputs": [
    {
     "data": {
      "text/plain": [
       "-0.33717272929410486"
      ]
     },
     "execution_count": 15,
     "metadata": {},
     "output_type": "execute_result"
    }
   ],
   "source": [
    "np.min(drawdown(returns))"
   ]
  },
  {
   "cell_type": "markdown",
   "id": "5fd310be",
   "metadata": {},
   "source": [
    "max_drawdown applies the drawdown function to 30 days of returns and figures out the smallest (most negative) value that occures over those 30 days. Then it moves forward one day computes again and so on till the end of the series"
   ]
  },
  {
   "cell_type": "code",
   "execution_count": 19,
   "id": "0015fedc",
   "metadata": {},
   "outputs": [
    {
     "data": {
      "image/png": "[encoded data removed]",
      "text/plain": [
       "<Figure size 864x576 with 1 Axes>"
      ]
     },
     "metadata": {
      "needs_background": "light"
     },
     "output_type": "display_data"
    }
   ],
   "source": [
    "returns.rolling(30).apply(max_drawdown).plot(kind=\"area\", \n",
    "                                             color=\"salmon\",\n",
    "                                            alpha=0.5,\n",
    "                                            figsize=(12, 8));"
   ]
  },
  {
   "cell_type": "code",
   "execution_count": null,
   "id": "e6988f09",
   "metadata": {},
   "outputs": [],
   "source": []
  }
 ],
 "metadata": {
  "kernelspec": {
   "display_name": "Python 3 (ipykernel)",
   "language": "python",
   "name": "python3"
  },
  "language_info": {
   "codemirror_mode": {
    "name": "ipython",
    "version": 3
   },
   "file_extension": ".py",
   "mimetype": "text/x-python",
   "name": "python",
   "nbconvert_exporter": "python",
   "pygments_lexer": "ipython3",
   "version": "3.7.13"
  }
 },
 "nbformat": 4,
 "nbformat_minor": 5
}
