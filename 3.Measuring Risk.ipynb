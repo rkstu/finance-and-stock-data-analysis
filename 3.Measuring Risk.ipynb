{
 "cells": [
  {
   "cell_type": "markdown",
   "id": "13a3e754",
   "metadata": {},
   "source": [
    "- Standard deviation - How spred data is from avarage     | sqrt(variance)\n",
    "\n",
    "- Variance ([(x-mean(x)]^2/x) - measure of the despersion of a set of data points around the mean\n",
    "\n",
    "Higher the standard deviation higher the risk"
   ]
  },
  {
   "cell_type": "markdown",
   "id": "ee218030",
   "metadata": {},
   "source": [
    "## Calculating the Risk of a Security"
   ]
  },
  {
   "cell_type": "code",
   "execution_count": 1,
   "id": "de1906c5",
   "metadata": {},
   "outputs": [],
   "source": [
    "import pandas as pd\n",
    "import numpy as np\n",
    "import matplotlib.pyplot as plt\n",
    "from pandas_datareader import data as wb"
   ]
  },
  {
   "cell_type": "code",
   "execution_count": 2,
   "id": "4903a33e",
   "metadata": {},
   "outputs": [],
   "source": [
    "tickers = ['PG', 'BEI.DE']\n",
    "\n",
    "sec_data = pd.DataFrame()\n",
    "\n",
    "for ticker in tickers:\n",
    "    sec_data[ticker] = wb.DataReader(ticker, data_source='yahoo', start='2007-1-1')['Adj Close']"
   ]
  },
  {
   "cell_type": "code",
   "execution_count": 3,
   "id": "74326b41",
   "metadata": {},
   "outputs": [
    {
     "data": {
      "text/html": [
       "<div>\n",
       "<style scoped>\n",
       "    .dataframe tbody tr th:only-of-type {\n",
       "        vertical-align: middle;\n",
       "    }\n",
       "\n",
       "    .dataframe tbody tr th {\n",
       "        vertical-align: top;\n",
       "    }\n",
       "\n",
       "    .dataframe thead th {\n",
       "        text-align: right;\n",
       "    }\n",
       "</style>\n",
       "<table border=\"1\" class=\"dataframe\">\n",
       "  <thead>\n",
       "    <tr style=\"text-align: right;\">\n",
       "      <th></th>\n",
       "      <th>PG</th>\n",
       "      <th>BEI.DE</th>\n",
       "    </tr>\n",
       "    <tr>\n",
       "      <th>Date</th>\n",
       "      <th></th>\n",
       "      <th></th>\n",
       "    </tr>\n",
       "  </thead>\n",
       "  <tbody>\n",
       "    <tr>\n",
       "      <th>2022-11-17</th>\n",
       "      <td>140.869995</td>\n",
       "      <td>102.099998</td>\n",
       "    </tr>\n",
       "    <tr>\n",
       "      <th>2022-11-18</th>\n",
       "      <td>142.570007</td>\n",
       "      <td>102.349998</td>\n",
       "    </tr>\n",
       "    <tr>\n",
       "      <th>2022-11-21</th>\n",
       "      <td>144.380005</td>\n",
       "      <td>103.449997</td>\n",
       "    </tr>\n",
       "    <tr>\n",
       "      <th>2022-11-22</th>\n",
       "      <td>145.619995</td>\n",
       "      <td>103.349998</td>\n",
       "    </tr>\n",
       "    <tr>\n",
       "      <th>2022-11-23</th>\n",
       "      <td>146.449997</td>\n",
       "      <td>103.900002</td>\n",
       "    </tr>\n",
       "  </tbody>\n",
       "</table>\n",
       "</div>"
      ],
      "text/plain": [
       "                    PG      BEI.DE\n",
       "Date                              \n",
       "2022-11-17  140.869995  102.099998\n",
       "2022-11-18  142.570007  102.349998\n",
       "2022-11-21  144.380005  103.449997\n",
       "2022-11-22  145.619995  103.349998\n",
       "2022-11-23  146.449997  103.900002"
      ]
     },
     "execution_count": 3,
     "metadata": {},
     "output_type": "execute_result"
    }
   ],
   "source": [
    "sec_data.tail()"
   ]
  },
  {
   "cell_type": "code",
   "execution_count": 4,
   "id": "99f81f8b",
   "metadata": {},
   "outputs": [],
   "source": [
    "sec_returns = np.log(sec_data/sec_data.shift(1))"
   ]
  },
  {
   "cell_type": "code",
   "execution_count": 5,
   "id": "3a145f56",
   "metadata": {},
   "outputs": [
    {
     "data": {
      "text/html": [
       "<div>\n",
       "<style scoped>\n",
       "    .dataframe tbody tr th:only-of-type {\n",
       "        vertical-align: middle;\n",
       "    }\n",
       "\n",
       "    .dataframe tbody tr th {\n",
       "        vertical-align: top;\n",
       "    }\n",
       "\n",
       "    .dataframe thead th {\n",
       "        text-align: right;\n",
       "    }\n",
       "</style>\n",
       "<table border=\"1\" class=\"dataframe\">\n",
       "  <thead>\n",
       "    <tr style=\"text-align: right;\">\n",
       "      <th></th>\n",
       "      <th>PG</th>\n",
       "      <th>BEI.DE</th>\n",
       "    </tr>\n",
       "    <tr>\n",
       "      <th>Date</th>\n",
       "      <th></th>\n",
       "      <th></th>\n",
       "    </tr>\n",
       "  </thead>\n",
       "  <tbody>\n",
       "    <tr>\n",
       "      <th>2007-01-03</th>\n",
       "      <td>NaN</td>\n",
       "      <td>NaN</td>\n",
       "    </tr>\n",
       "    <tr>\n",
       "      <th>2007-01-04</th>\n",
       "      <td>-0.007621</td>\n",
       "      <td>0.006544</td>\n",
       "    </tr>\n",
       "    <tr>\n",
       "      <th>2007-01-05</th>\n",
       "      <td>-0.008624</td>\n",
       "      <td>-0.020772</td>\n",
       "    </tr>\n",
       "    <tr>\n",
       "      <th>2007-01-08</th>\n",
       "      <td>0.002202</td>\n",
       "      <td>0.000202</td>\n",
       "    </tr>\n",
       "    <tr>\n",
       "      <th>2007-01-09</th>\n",
       "      <td>-0.002517</td>\n",
       "      <td>-0.022858</td>\n",
       "    </tr>\n",
       "    <tr>\n",
       "      <th>...</th>\n",
       "      <td>...</td>\n",
       "      <td>...</td>\n",
       "    </tr>\n",
       "    <tr>\n",
       "      <th>2022-11-17</th>\n",
       "      <td>-0.006157</td>\n",
       "      <td>0.009348</td>\n",
       "    </tr>\n",
       "    <tr>\n",
       "      <th>2022-11-18</th>\n",
       "      <td>0.011996</td>\n",
       "      <td>0.002446</td>\n",
       "    </tr>\n",
       "    <tr>\n",
       "      <th>2022-11-21</th>\n",
       "      <td>0.012616</td>\n",
       "      <td>0.010690</td>\n",
       "    </tr>\n",
       "    <tr>\n",
       "      <th>2022-11-22</th>\n",
       "      <td>0.008552</td>\n",
       "      <td>-0.000967</td>\n",
       "    </tr>\n",
       "    <tr>\n",
       "      <th>2022-11-23</th>\n",
       "      <td>0.005684</td>\n",
       "      <td>0.005308</td>\n",
       "    </tr>\n",
       "  </tbody>\n",
       "</table>\n",
       "<p>4003 rows × 2 columns</p>\n",
       "</div>"
      ],
      "text/plain": [
       "                  PG    BEI.DE\n",
       "Date                          \n",
       "2007-01-03       NaN       NaN\n",
       "2007-01-04 -0.007621  0.006544\n",
       "2007-01-05 -0.008624 -0.020772\n",
       "2007-01-08  0.002202  0.000202\n",
       "2007-01-09 -0.002517 -0.022858\n",
       "...              ...       ...\n",
       "2022-11-17 -0.006157  0.009348\n",
       "2022-11-18  0.011996  0.002446\n",
       "2022-11-21  0.012616  0.010690\n",
       "2022-11-22  0.008552 -0.000967\n",
       "2022-11-23  0.005684  0.005308\n",
       "\n",
       "[4003 rows x 2 columns]"
      ]
     },
     "execution_count": 5,
     "metadata": {},
     "output_type": "execute_result"
    }
   ],
   "source": [
    "sec_returns"
   ]
  },
  {
   "cell_type": "markdown",
   "id": "fc9712f3",
   "metadata": {},
   "source": [
    "### PG"
   ]
  },
  {
   "cell_type": "code",
   "execution_count": 6,
   "id": "56fafc64",
   "metadata": {},
   "outputs": [
    {
     "data": {
      "text/plain": [
       "0.0003206764137816731"
      ]
     },
     "execution_count": 6,
     "metadata": {},
     "output_type": "execute_result"
    }
   ],
   "source": [
    "# Mean - avarage daily returns \n",
    "sec_returns['PG'].mean()"
   ]
  },
  {
   "cell_type": "code",
   "execution_count": 7,
   "id": "4a4619cf",
   "metadata": {},
   "outputs": [
    {
     "data": {
      "text/plain": [
       "0.08016910344541828"
      ]
     },
     "execution_count": 7,
     "metadata": {},
     "output_type": "execute_result"
    }
   ],
   "source": [
    "# avarage annual returns \n",
    "sec_returns['PG'].mean()*250"
   ]
  },
  {
   "cell_type": "code",
   "execution_count": 8,
   "id": "4552a766",
   "metadata": {},
   "outputs": [
    {
     "data": {
      "text/plain": [
       "0.011879003038779378"
      ]
     },
     "execution_count": 8,
     "metadata": {},
     "output_type": "execute_result"
    }
   ],
   "source": [
    "# daily standard deaviation \n",
    "sec_returns['PG'].std()"
   ]
  },
  {
   "cell_type": "code",
   "execution_count": 9,
   "id": "4eb6548f",
   "metadata": {},
   "outputs": [
    {
     "data": {
      "text/plain": [
       "0.1878235296730216"
      ]
     },
     "execution_count": 9,
     "metadata": {},
     "output_type": "execute_result"
    }
   ],
   "source": [
    "# Annaul standerd deaviation (std*250**0.5)\n",
    "# annual variation = var*250\n",
    "# var*250 = squar(std_deviation)*250\n",
    "\n",
    "sec_returns['PG'].std()*250**0.5"
   ]
  },
  {
   "cell_type": "code",
   "execution_count": null,
   "id": "706ab386",
   "metadata": {},
   "outputs": [],
   "source": []
  },
  {
   "cell_type": "code",
   "execution_count": 10,
   "id": "bfd3a222",
   "metadata": {},
   "outputs": [
    {
     "name": "stdout",
     "output_type": "stream",
     "text": [
      "0.1878235296730216\n",
      "0.2186492814826161\n"
     ]
    }
   ],
   "source": [
    "# Both companies anuual std\n",
    "print(sec_returns['PG'].std()*250**0.5)\n",
    "print(sec_returns['BEI.DE'].std()*250**0.5)"
   ]
  },
  {
   "cell_type": "code",
   "execution_count": 11,
   "id": "97b8f750",
   "metadata": {},
   "outputs": [
    {
     "data": {
      "text/plain": [
       "PG        0.080169\n",
       "BEI.DE    0.054095\n",
       "dtype: float64"
      ]
     },
     "execution_count": 11,
     "metadata": {},
     "output_type": "execute_result"
    }
   ],
   "source": [
    "# Bith companies annual mean std together\n",
    "sec_returns[['PG', 'BEI.DE']].mean()*250"
   ]
  },
  {
   "cell_type": "code",
   "execution_count": 12,
   "id": "eab6a292",
   "metadata": {},
   "outputs": [],
   "source": [
    "# Bith companies mean std together\n",
    "# sec_returns['PG', 'BEI.DE'].mean()*250"
   ]
  },
  {
   "cell_type": "code",
   "execution_count": 13,
   "id": "18091195",
   "metadata": {},
   "outputs": [
    {
     "data": {
      "text/plain": [
       "PG        0.080169\n",
       "BEI.DE    0.054095\n",
       "dtype: float64"
      ]
     },
     "execution_count": 13,
     "metadata": {},
     "output_type": "execute_result"
    }
   ],
   "source": [
    "# Bith companies mean std together\n",
    "sec_returns[['PG', 'BEI.DE']].mean()*250"
   ]
  },
  {
   "cell_type": "code",
   "execution_count": 14,
   "id": "158d28b1",
   "metadata": {},
   "outputs": [
    {
     "data": {
      "text/plain": [
       "PG        0.187824\n",
       "BEI.DE    0.218649\n",
       "dtype: float64"
      ]
     },
     "execution_count": 14,
     "metadata": {},
     "output_type": "execute_result"
    }
   ],
   "source": [
    "# Bith companies mean std together\n",
    "sec_returns[['PG', 'BEI.DE']].std()*250**0.5"
   ]
  },
  {
   "cell_type": "markdown",
   "id": "78a04fa6",
   "metadata": {},
   "source": [
    "## Benifit of Portfolio Diversity\n",
    "\n",
    "### Covariance and correlation\n",
    "\n",
    "- corelation - mutual relation btw two or more  variables\n",
    "- Covariance(X, X) = variance of X\n",
    "\n",
    "\n",
    "- corelation cofficient **[cov(x, y)/(std(x)*std(y)]**\n",
    "\n",
    "    * -1 = perfect negative corelation(perfecty dependent), if one increases other decreases (-ve slope)\n",
    "    * -ve = if one increases other decreases (-ve slope)\n",
    "    * 1 = perfect positive corelation(perfecty dependent), if one increases other increases and visa versa (+ve slope)\n",
    "    * +ve = if one increases other increases and visa versa (+ve slope)"
   ]
  },
  {
   "cell_type": "code",
   "execution_count": 15,
   "id": "2883c59d",
   "metadata": {},
   "outputs": [
    {
     "data": {
      "text/plain": [
       "0.0001411107131953297"
      ]
     },
     "execution_count": 15,
     "metadata": {},
     "output_type": "execute_result"
    }
   ],
   "source": [
    "PG_var = sec_returns['PG'].var()\n",
    "PG_var"
   ]
  },
  {
   "cell_type": "code",
   "execution_count": 16,
   "id": "bd809cc0",
   "metadata": {},
   "outputs": [
    {
     "data": {
      "text/plain": [
       "0.00019123003317145714"
      ]
     },
     "execution_count": 16,
     "metadata": {},
     "output_type": "execute_result"
    }
   ],
   "source": [
    "BEI_var = sec_returns['BEI.DE'].var()\n",
    "BEI_var"
   ]
  },
  {
   "cell_type": "code",
   "execution_count": 17,
   "id": "f4757867",
   "metadata": {},
   "outputs": [
    {
     "data": {
      "text/plain": [
       "0.035277678298832424"
      ]
     },
     "execution_count": 17,
     "metadata": {},
     "output_type": "execute_result"
    }
   ],
   "source": [
    "# Annual variace\n",
    "PG_var_a = sec_returns['PG'].var()*250\n",
    "PG_var_a"
   ]
  },
  {
   "cell_type": "code",
   "execution_count": 18,
   "id": "52b92d57",
   "metadata": {},
   "outputs": [
    {
     "data": {
      "text/plain": [
       "0.04780750829286429"
      ]
     },
     "execution_count": 18,
     "metadata": {},
     "output_type": "execute_result"
    }
   ],
   "source": [
    "# Annual variace\n",
    "BEI_var_a = sec_returns['BEI.DE'].var()*250\n",
    "BEI_var_a"
   ]
  },
  {
   "cell_type": "markdown",
   "id": "3ebea935",
   "metadata": {},
   "source": [
    "Covariance"
   ]
  },
  {
   "cell_type": "code",
   "execution_count": 19,
   "id": "f8792aab",
   "metadata": {},
   "outputs": [
    {
     "data": {
      "text/html": [
       "<div>\n",
       "<style scoped>\n",
       "    .dataframe tbody tr th:only-of-type {\n",
       "        vertical-align: middle;\n",
       "    }\n",
       "\n",
       "    .dataframe tbody tr th {\n",
       "        vertical-align: top;\n",
       "    }\n",
       "\n",
       "    .dataframe thead th {\n",
       "        text-align: right;\n",
       "    }\n",
       "</style>\n",
       "<table border=\"1\" class=\"dataframe\">\n",
       "  <thead>\n",
       "    <tr style=\"text-align: right;\">\n",
       "      <th></th>\n",
       "      <th>PG</th>\n",
       "      <th>BEI.DE</th>\n",
       "    </tr>\n",
       "  </thead>\n",
       "  <tbody>\n",
       "    <tr>\n",
       "      <th>PG</th>\n",
       "      <td>0.000141</td>\n",
       "      <td>0.000044</td>\n",
       "    </tr>\n",
       "    <tr>\n",
       "      <th>BEI.DE</th>\n",
       "      <td>0.000044</td>\n",
       "      <td>0.000191</td>\n",
       "    </tr>\n",
       "  </tbody>\n",
       "</table>\n",
       "</div>"
      ],
      "text/plain": [
       "              PG    BEI.DE\n",
       "PG      0.000141  0.000044\n",
       "BEI.DE  0.000044  0.000191"
      ]
     },
     "execution_count": 19,
     "metadata": {},
     "output_type": "execute_result"
    }
   ],
   "source": [
    "cov_matrix = sec_returns.cov()\n",
    "cov_matrix"
   ]
  },
  {
   "cell_type": "code",
   "execution_count": 20,
   "id": "935aa256",
   "metadata": {},
   "outputs": [
    {
     "data": {
      "text/html": [
       "<div>\n",
       "<style scoped>\n",
       "    .dataframe tbody tr th:only-of-type {\n",
       "        vertical-align: middle;\n",
       "    }\n",
       "\n",
       "    .dataframe tbody tr th {\n",
       "        vertical-align: top;\n",
       "    }\n",
       "\n",
       "    .dataframe thead th {\n",
       "        text-align: right;\n",
       "    }\n",
       "</style>\n",
       "<table border=\"1\" class=\"dataframe\">\n",
       "  <thead>\n",
       "    <tr style=\"text-align: right;\">\n",
       "      <th></th>\n",
       "      <th>PG</th>\n",
       "      <th>BEI.DE</th>\n",
       "    </tr>\n",
       "  </thead>\n",
       "  <tbody>\n",
       "    <tr>\n",
       "      <th>PG</th>\n",
       "      <td>0.035278</td>\n",
       "      <td>0.011021</td>\n",
       "    </tr>\n",
       "    <tr>\n",
       "      <th>BEI.DE</th>\n",
       "      <td>0.011021</td>\n",
       "      <td>0.047808</td>\n",
       "    </tr>\n",
       "  </tbody>\n",
       "</table>\n",
       "</div>"
      ],
      "text/plain": [
       "              PG    BEI.DE\n",
       "PG      0.035278  0.011021\n",
       "BEI.DE  0.011021  0.047808"
      ]
     },
     "execution_count": 20,
     "metadata": {},
     "output_type": "execute_result"
    }
   ],
   "source": [
    "# Annual covariance\n",
    "cov_matrix_a = sec_returns.cov()*250\n",
    "cov_matrix_a"
   ]
  },
  {
   "cell_type": "markdown",
   "id": "90939339",
   "metadata": {},
   "source": [
    "Corelation [cov(x, y)/(std(x)*std(y)]\n",
    "- this correlation  between retuns and not prices"
   ]
  },
  {
   "cell_type": "code",
   "execution_count": 21,
   "id": "f70de5de",
   "metadata": {},
   "outputs": [
    {
     "data": {
      "text/html": [
       "<div>\n",
       "<style scoped>\n",
       "    .dataframe tbody tr th:only-of-type {\n",
       "        vertical-align: middle;\n",
       "    }\n",
       "\n",
       "    .dataframe tbody tr th {\n",
       "        vertical-align: top;\n",
       "    }\n",
       "\n",
       "    .dataframe thead th {\n",
       "        text-align: right;\n",
       "    }\n",
       "</style>\n",
       "<table border=\"1\" class=\"dataframe\">\n",
       "  <thead>\n",
       "    <tr style=\"text-align: right;\">\n",
       "      <th></th>\n",
       "      <th>PG</th>\n",
       "      <th>BEI.DE</th>\n",
       "    </tr>\n",
       "  </thead>\n",
       "  <tbody>\n",
       "    <tr>\n",
       "      <th>PG</th>\n",
       "      <td>1.000000</td>\n",
       "      <td>0.267883</td>\n",
       "    </tr>\n",
       "    <tr>\n",
       "      <th>BEI.DE</th>\n",
       "      <td>0.267883</td>\n",
       "      <td>1.000000</td>\n",
       "    </tr>\n",
       "  </tbody>\n",
       "</table>\n",
       "</div>"
      ],
      "text/plain": [
       "              PG    BEI.DE\n",
       "PG      1.000000  0.267883\n",
       "BEI.DE  0.267883  1.000000"
      ]
     },
     "execution_count": 21,
     "metadata": {},
     "output_type": "execute_result"
    }
   ],
   "source": [
    "corr_matrix = sec_returns.corr()\n",
    "corr_matrix"
   ]
  },
  {
   "cell_type": "markdown",
   "id": "b2b10b36",
   "metadata": {},
   "source": [
    "### Portfolio variance\n",
    " - Calculating variability of a portfolio of two or more stock\n",
    " - for two stocks (w1s1 + w2s2)^2 = w1^2*s1^2 + 2*w1*s1*w2*s2*p12 + w2^2*s2^2 \n",
    " "
   ]
  },
  {
   "cell_type": "code",
   "execution_count": 22,
   "id": "90ac7de4",
   "metadata": {},
   "outputs": [],
   "source": [
    " weights = np.array([0.5, 0.5])"
   ]
  },
  {
   "cell_type": "markdown",
   "id": "acb72faa",
   "metadata": {},
   "source": [
    "Portfolio Variance [vector multipication (a*B)^2 = a'Ba]\n",
    "- (w*Cov)^2 = wT * Cov * w"
   ]
  },
  {
   "cell_type": "code",
   "execution_count": 23,
   "id": "7d2da8b3",
   "metadata": {},
   "outputs": [
    {
     "data": {
      "text/plain": [
       "0.026281630800357638"
      ]
     },
     "execution_count": 23,
     "metadata": {},
     "output_type": "execute_result"
    }
   ],
   "source": [
    "portfolio_var = np.dot(weights.T, np.dot(sec_returns.cov()*250, weights))\n",
    "portfolio_var"
   ]
  },
  {
   "cell_type": "markdown",
   "id": "36adbefd",
   "metadata": {},
   "source": [
    "Portfolio Volatility / Standard deviation"
   ]
  },
  {
   "cell_type": "code",
   "execution_count": 24,
   "id": "d94f285e",
   "metadata": {},
   "outputs": [
    {
     "data": {
      "text/plain": [
       "0.1621161028410122"
      ]
     },
     "execution_count": 24,
     "metadata": {},
     "output_type": "execute_result"
    }
   ],
   "source": [
    "portfolio_vol = np.dot(weights.T, np.dot(sec_returns.cov()*250, weights))**0.5\n",
    "portfolio_vol"
   ]
  },
  {
   "cell_type": "code",
   "execution_count": 25,
   "id": "28d4778f",
   "metadata": {},
   "outputs": [
    {
     "name": "stdout",
     "output_type": "stream",
     "text": [
      "16.212%\n"
     ]
    }
   ],
   "source": [
    "print(f\"{round(portfolio_vol, 5)*100}%\")"
   ]
  },
  {
   "cell_type": "markdown",
   "id": "0db04a1d",
   "metadata": {},
   "source": [
    "### Risks\n",
    "\n",
    "- Systematic risk/ Un-diverifiable risk - depends on variance of individual securities (can not normally  - war, reccsion etc )\n",
    "\n",
    "- Un systematic risk / Diversifiable risk - company specific risk (can normally be minimised by diversification)"
   ]
  },
  {
   "cell_type": "markdown",
   "id": "727e3b7b",
   "metadata": {},
   "source": [
    "### Calculating Diversifiable and Non-Diversiable risk of a Portfolio\n",
    "\n"
   ]
  },
  {
   "cell_type": "code",
   "execution_count": 27,
   "id": "223d62bf",
   "metadata": {},
   "outputs": [],
   "source": [
    "weights = [0.5, 0.5]"
   ]
  },
  {
   "cell_type": "code",
   "execution_count": 28,
   "id": "15a1397a",
   "metadata": {},
   "outputs": [
    {
     "data": {
      "text/plain": [
       "(0.5, 0.5)"
      ]
     },
     "execution_count": 28,
     "metadata": {},
     "output_type": "execute_result"
    }
   ],
   "source": [
    "weights[0], weights[1]"
   ]
  },
  {
   "cell_type": "markdown",
   "id": "bf8d9e79",
   "metadata": {},
   "source": [
    "#### Diversifiable Risk"
   ]
  },
  {
   "cell_type": "markdown",
   "id": "a5e5640b",
   "metadata": {},
   "source": [
    "diversifiable risk = portfolio variance - weighted annual variances"
   ]
  },
  {
   "cell_type": "markdown",
   "id": "bfb0efc9",
   "metadata": {},
   "source": [
    "wrong method - think?"
   ]
  },
  {
   "cell_type": "code",
   "execution_count": 30,
   "id": "09fd2c21",
   "metadata": {},
   "outputs": [
    {
     "data": {
      "text/plain": [
       "PG    0.035278\n",
       "dtype: float64"
      ]
     },
     "execution_count": 30,
     "metadata": {},
     "output_type": "execute_result"
    }
   ],
   "source": [
    "PG_var_a = sec_returns[['PG']].var()*250 # 2 dimention\n",
    "PG_var_a"
   ]
  },
  {
   "cell_type": "code",
   "execution_count": 33,
   "id": "0c2aec1a",
   "metadata": {},
   "outputs": [
    {
     "data": {
      "text/plain": [
       "1"
      ]
     },
     "execution_count": 33,
     "metadata": {},
     "output_type": "execute_result"
    }
   ],
   "source": [
    "np.ndim(PG_var_a)"
   ]
  },
  {
   "cell_type": "code",
   "execution_count": 34,
   "id": "5c761609",
   "metadata": {},
   "outputs": [
    {
     "data": {
      "text/plain": [
       "BEI.DE    0.047808\n",
       "dtype: float64"
      ]
     },
     "execution_count": 34,
     "metadata": {},
     "output_type": "execute_result"
    }
   ],
   "source": [
    "BEI_var_a = sec_returns[['BEI.DE']].var()*250\n",
    "BEI_var_a"
   ]
  },
  {
   "cell_type": "code",
   "execution_count": 35,
   "id": "e10db084",
   "metadata": {},
   "outputs": [
    {
     "data": {
      "text/plain": [
       "BEI.DE   NaN\n",
       "PG       NaN\n",
       "dtype: float64"
      ]
     },
     "execution_count": 35,
     "metadata": {},
     "output_type": "execute_result"
    }
   ],
   "source": [
    "# calculating diversifiable risk\n",
    "dr = portfolio_var - (weights[0]**2* PG_var_a) - (weights[1] ** 2 * BEI_var_a)\n",
    "dr"
   ]
  },
  {
   "cell_type": "code",
   "execution_count": 37,
   "id": "49b4d147",
   "metadata": {},
   "outputs": [
    {
     "data": {
      "text/plain": [
       "0.035277678298832424"
      ]
     },
     "execution_count": 37,
     "metadata": {},
     "output_type": "execute_result"
    }
   ],
   "source": [
    "float(PG_var_a)"
   ]
  },
  {
   "cell_type": "markdown",
   "id": "37d69fa0",
   "metadata": {},
   "source": [
    "write method - 1d "
   ]
  },
  {
   "cell_type": "code",
   "execution_count": 38,
   "id": "c4a7c811",
   "metadata": {},
   "outputs": [
    {
     "data": {
      "text/plain": [
       "0.035277678298832424"
      ]
     },
     "execution_count": 38,
     "metadata": {},
     "output_type": "execute_result"
    }
   ],
   "source": [
    "PG_var_a = sec_returns['PG'].var()*250 # 2 dimention\n",
    "PG_var_a"
   ]
  },
  {
   "cell_type": "code",
   "execution_count": 39,
   "id": "523249d6",
   "metadata": {},
   "outputs": [
    {
     "data": {
      "text/plain": [
       "0.04780750829286429"
      ]
     },
     "execution_count": 39,
     "metadata": {},
     "output_type": "execute_result"
    }
   ],
   "source": [
    "BEI_var_a = sec_returns['BEI.DE'].var()*250\n",
    "BEI_var_a"
   ]
  },
  {
   "cell_type": "code",
   "execution_count": 40,
   "id": "3b9a65c0",
   "metadata": {},
   "outputs": [
    {
     "data": {
      "text/plain": [
       "0.00551033415243346"
      ]
     },
     "execution_count": 40,
     "metadata": {},
     "output_type": "execute_result"
    }
   ],
   "source": [
    "# calculating diversifiable risk\n",
    "dr = portfolio_var - (weights[0]**2* PG_var_a) - (weights[1] ** 2 * BEI_var_a)\n",
    "dr"
   ]
  },
  {
   "cell_type": "code",
   "execution_count": 42,
   "id": "cd729ce6",
   "metadata": {},
   "outputs": [
    {
     "name": "stdout",
     "output_type": "stream",
     "text": [
      "0.551 % \n"
     ]
    }
   ],
   "source": [
    "print(f\"{round(dr*100, 3)} % \")"
   ]
  },
  {
   "cell_type": "markdown",
   "id": "9e1c79d3",
   "metadata": {},
   "source": [
    "Non Diversifiable Risk"
   ]
  },
  {
   "cell_type": "code",
   "execution_count": 43,
   "id": "bdb79fc2",
   "metadata": {},
   "outputs": [
    {
     "data": {
      "text/plain": [
       "0.020771296647924178"
      ]
     },
     "execution_count": 43,
     "metadata": {},
     "output_type": "execute_result"
    }
   ],
   "source": [
    "n_dr_1 = portfolio_var - dr\n",
    "n_dr_1"
   ]
  },
  {
   "cell_type": "code",
   "execution_count": 44,
   "id": "b82f6d76",
   "metadata": {},
   "outputs": [
    {
     "data": {
      "text/plain": [
       "0.020771296647924178"
      ]
     },
     "execution_count": 44,
     "metadata": {},
     "output_type": "execute_result"
    }
   ],
   "source": [
    "n_dr_2 = (weights[0] ** 2 * PG_var_a) + (weights[1] ** 2 * BEI_var_a)\n",
    "n_dr_2"
   ]
  },
  {
   "cell_type": "code",
   "execution_count": 45,
   "id": "fe038243",
   "metadata": {},
   "outputs": [
    {
     "data": {
      "text/plain": [
       "True"
      ]
     },
     "execution_count": 45,
     "metadata": {},
     "output_type": "execute_result"
    }
   ],
   "source": [
    "n_dr_1 == n_dr_2"
   ]
  },
  {
   "cell_type": "code",
   "execution_count": null,
   "id": "2c458247",
   "metadata": {},
   "outputs": [],
   "source": []
  }
 ],
 "metadata": {
  "kernelspec": {
   "display_name": "Python 3 (ipykernel)",
   "language": "python",
   "name": "python3"
  },
  "language_info": {
   "codemirror_mode": {
    "name": "ipython",
    "version": 3
   },
   "file_extension": ".py",
   "mimetype": "text/x-python",
   "name": "python",
   "nbconvert_exporter": "python",
   "pygments_lexer": "ipython3",
   "version": "3.7.13"
  }
 },
 "nbformat": 4,
 "nbformat_minor": 5
}
